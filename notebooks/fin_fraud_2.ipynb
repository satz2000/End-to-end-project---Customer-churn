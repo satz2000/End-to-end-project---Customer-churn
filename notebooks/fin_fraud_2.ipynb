{
 "cells": [
  {
   "cell_type": "code",
   "execution_count": 1,
   "metadata": {},
   "outputs": [],
   "source": [
    "from pathlib import Path\n",
    "from sklearn.model_selection import train_test_split\n",
    "from sklearn.linear_model import LogisticRegression\n",
    "from xgboost import XGBClassifier\n",
    "import sys\n",
    "\n",
    "sys.path.append(\"../\")\n",
    "\n",
    "from src.common_functions import *"
   ]
  },
  {
   "cell_type": "code",
   "execution_count": 7,
   "metadata": {},
   "outputs": [
    {
     "name": "stdout",
     "output_type": "stream",
     "text": [
      "101882\n"
     ]
    },
    {
     "data": {
      "text/plain": [
       "is_fraud\n",
       "0    99.478809\n",
       "1     0.521191\n",
       "Name: count, dtype: float64"
      ]
     },
     "execution_count": 7,
     "metadata": {},
     "output_type": "execute_result"
    }
   ],
   "source": [
    "# sample data\n",
    "RAW_DATA_PATH1 = \"../datasets/fraud/fraudTrain.csv\"\n",
    "RAW_DATA_PATH2 = \"../datasets/fraud/fraudTest.csv\"\n",
    "SAMPLED_DATA_PATH = \"../datasets/fraud/fin_fraud_2.csv\"\n",
    "DATASET_NAME = Path(SAMPLED_DATA_PATH).stem\n",
    "raw_data1 = pd.read_csv(\"../datasets/fraud/fraudTrain.csv\", index_col='Unnamed: 0')\n",
    "raw_data2 = pd.read_csv(\"../datasets/fraud/fraudTest.csv\", index_col='Unnamed: 0')\n",
    "raw_data = pd.concat([raw_data1, raw_data2])\n",
    "raw_data = raw_data.rename(columns=dict(zip(raw_data.columns, list(map(to_snake_case, raw_data.columns)))))\n",
    "raw_data.head()\n",
    "_to_drop, df = train_test_split(raw_data, test_size=0.055, random_state=42, stratify=raw_data[\"is_fraud\"])\n",
    "df.to_csv(SAMPLED_DATA_PATH, header=True, sep=\",\")\n",
    "del _to_drop\n",
    "print(df.shape[0])\n",
    "df[\"is_fraud\"].value_counts()/df.shape[0]*100"
   ]
  },
  {
   "cell_type": "code",
   "execution_count": 8,
   "metadata": {},
   "outputs": [
    {
     "data": {
      "text/plain": [
       "trans_date_trans_time    False\n",
       "cc_num                   False\n",
       "merchant                 False\n",
       "category                 False\n",
       "amt                      False\n",
       "first                    False\n",
       "last                     False\n",
       "gender                   False\n",
       "street                   False\n",
       "city                     False\n",
       "state                    False\n",
       "zip                      False\n",
       "lat                      False\n",
       "long                     False\n",
       "city_pop                 False\n",
       "job                      False\n",
       "dob                      False\n",
       "trans_num                False\n",
       "unix_time                False\n",
       "merch_lat                False\n",
       "merch_long               False\n",
       "is_fraud                 False\n",
       "dtype: bool"
      ]
     },
     "execution_count": 8,
     "metadata": {},
     "output_type": "execute_result"
    }
   ],
   "source": [
    "df.isna().any()"
   ]
  },
  {
   "cell_type": "code",
   "execution_count": 9,
   "metadata": {},
   "outputs": [],
   "source": [
    "y = \"is_fraud\"\n",
    "\n",
    "# some generic cleaning\n",
    "\n",
    "COLUMNS_TO_DROP = []\n",
    "assert df[y].isna().any() == False\n",
    "raw_features = df.drop(COLUMNS_TO_DROP, axis=1)\n",
    "\n",
    "# ML tuning\n",
    "\n",
    "train, test = train_test_split(\n",
    "    raw_features, test_size=0.2, random_state=0, stratify=df[y])\n",
    "\n",
    "fit_le = LabelEncoder().fit(train[y])"
   ]
  },
  {
   "cell_type": "code",
   "execution_count": 10,
   "metadata": {},
   "outputs": [
    {
     "name": "stdout",
     "output_type": "stream",
     "text": [
      "Fitting 5 folds for each of 1008 candidates, totalling 5040 fits\n"
     ]
    }
   ],
   "source": [
    "param_grid = {\n",
    "    'logistic__penalty': ['l2'],\n",
    "    'logistic__C': [1, 10, 100, 1000],\n",
    "    'pca__n_components': list(range(6, 32, 4)),\n",
    "    'under__sampling_strategy': [0.1, 0.2, 0.3, 0.5, 0.7, 1],\n",
    "    'over__sampling_strategy': [0.2, 0.3, 0.4, 0.5, 0.7, 1]\n",
    "}\n",
    "\n",
    "model = LogisticRegression()\n",
    "\n",
    "MODEL_NAME = 'logistic'\n",
    "\n",
    "grid = sklearn_gridsearch_using_pipeline(\n",
    "    train, y_col_name=y, model=model, fit_le=fit_le, model_name='logistic', param_grid=param_grid)\n",
    "best_pipeline_log_reg = grid.best_estimator_\n",
    "best_pipeline_log_reg"
   ]
  },
  {
   "cell_type": "code",
   "execution_count": null,
   "metadata": {},
   "outputs": [],
   "source": [
    "write_pipeline(best_pipeline_log_reg, MODEL_NAME, DATASET_NAME)"
   ]
  },
  {
   "cell_type": "code",
   "execution_count": null,
   "metadata": {},
   "outputs": [],
   "source": [
    "COLUMNS = [\"under__sampling_strategy\", \"over__sampling_strategy\", \"pca__n_components\", f\"{MODEL_NAME}__C\", f\"{MODEL_NAME}__penalty\", \"roc_auc_mean\", \"roc_auc_std\"]\n",
    "\n",
    "pd.concat([\n",
    "    pd.DataFrame(grid.cv_results_[\"params\"]),\n",
    "    pd.DataFrame(grid.cv_results_[\"mean_test_score\"], columns=[\"roc_auc_mean\"]),\n",
    "    pd.DataFrame(grid.cv_results_[\"std_test_score\"], columns=[\"roc_auc_std\"])\n",
    "    ],axis=1).dropna(subset=[\"roc_auc_mean\", \"roc_auc_std\"])[COLUMNS].sort_values(by=COLUMNS)"
   ]
  },
  {
   "cell_type": "code",
   "execution_count": null,
   "metadata": {},
   "outputs": [],
   "source": [
    "evaluate_model(best_pipeline_log_reg, fit_le=fit_le, test=test, y_col_name=y)"
   ]
  }
 ],
 "metadata": {
  "kernelspec": {
   "display_name": "End-to-end-project---Customer-churn-PLUo0CZ0",
   "language": "python",
   "name": "python3"
  },
  "language_info": {
   "codemirror_mode": {
    "name": "ipython",
    "version": 3
   },
   "file_extension": ".py",
   "mimetype": "text/x-python",
   "name": "python",
   "nbconvert_exporter": "python",
   "pygments_lexer": "ipython3",
   "version": "3.11.0"
  },
  "orig_nbformat": 4
 },
 "nbformat": 4,
 "nbformat_minor": 2
}
