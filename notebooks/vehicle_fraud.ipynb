{
 "cells": [
  {
   "cell_type": "code",
   "execution_count": 1,
   "metadata": {},
   "outputs": [],
   "source": [
    "from pathlib import Path\n",
    "from sklearn.linear_model import LogisticRegression\n",
    "# from sklearn.feature_extraction.text import TfidfVectorizer\n",
    "from sklearn.model_selection import train_test_split\n",
    "from xgboost import XGBClassifier\n",
    "from typing import List\n",
    "import sys\n",
    "\n",
    "\n",
    "sys.path.append(\"../\")\n",
    "\n",
    "from src.common_functions import *"
   ]
  },
  {
   "cell_type": "code",
   "execution_count": 2,
   "metadata": {},
   "outputs": [
    {
     "name": "stdout",
     "output_type": "stream",
     "text": [
      "15420\n"
     ]
    },
    {
     "data": {
      "text/plain": [
       "fraud_found_p\n",
       "0    94.014267\n",
       "1     5.985733\n",
       "Name: count, dtype: float64"
      ]
     },
     "execution_count": 2,
     "metadata": {},
     "output_type": "execute_result"
    }
   ],
   "source": [
    "# sample data\n",
    "RAW_DATA_PATH = \"../datasets/fraud/vehicle_fraud.csv\"\n",
    "DATASET_NAME = Path(RAW_DATA_PATH).stem\n",
    "df = pd.read_csv(RAW_DATA_PATH)\n",
    "df = df.rename(columns=dict(zip(df.columns, list(map(to_snake_case, df.columns)))))\n",
    "df.head()\n",
    "print(df.shape[0])\n",
    "df[\"fraud_found_p\"].value_counts()/df.shape[0]*100"
   ]
  },
  {
   "cell_type": "code",
   "execution_count": 3,
   "metadata": {},
   "outputs": [
    {
     "data": {
      "text/plain": [
       "month                    False\n",
       "week_of_month            False\n",
       "day_of_week              False\n",
       "make                     False\n",
       "accident_area            False\n",
       "day_of_week_claimed      False\n",
       "month_claimed            False\n",
       "week_of_month_claimed    False\n",
       "sex                      False\n",
       "marital_status           False\n",
       "age                      False\n",
       "fault                    False\n",
       "policy_type              False\n",
       "vehicle_category         False\n",
       "vehicle_price            False\n",
       "fraud_found_p            False\n",
       "policy_number            False\n",
       "rep_number               False\n",
       "deductible               False\n",
       "driver_rating            False\n",
       "days_policy_accident     False\n",
       "days_policy_claim        False\n",
       "past_number_of_claims    False\n",
       "age_of_vehicle           False\n",
       "age_of_policy_holder     False\n",
       "police_report_filed      False\n",
       "witness_present          False\n",
       "agent_type               False\n",
       "number_of_suppliments    False\n",
       "address_change_claim     False\n",
       "number_of_cars           False\n",
       "year                     False\n",
       "base_policy              False\n",
       "dtype: bool"
      ]
     },
     "execution_count": 3,
     "metadata": {},
     "output_type": "execute_result"
    }
   ],
   "source": [
    "df.isna().any()"
   ]
  },
  {
   "cell_type": "code",
   "execution_count": 4,
   "metadata": {},
   "outputs": [
    {
     "data": {
      "text/plain": [
       "make       fraud_found_p\n",
       "Pontiac    0                3624\n",
       "Toyota     0                2935\n",
       "Honda      0                2622\n",
       "Mazda      0                2231\n",
       "Chevrolet  0                1587\n",
       "Ford       0                 417\n",
       "Accura     0                 413\n",
       "VW         0                 275\n",
       "Pontiac    1                 213\n",
       "Toyota     1                 186\n",
       "Honda      1                 179\n",
       "Mazda      1                 123\n",
       "Dodge      0                 107\n",
       "Saab       0                  97\n",
       "Chevrolet  1                  94\n",
       "Mercury    0                  77\n",
       "Accura     1                  59\n",
       "Saturn     0                  52\n",
       "Ford       1                  33\n",
       "Nisson     0                  29\n",
       "BMW        0                  14\n",
       "Saab       1                  11\n",
       "VW         1                   8\n",
       "Jaguar     0                   6\n",
       "Saturn     1                   6\n",
       "Mercury    1                   6\n",
       "Porche     0                   5\n",
       "Mecedes    0                   3\n",
       "Ferrari    0                   2\n",
       "Dodge      1                   2\n",
       "Lexus      0                   1\n",
       "BMW        1                   1\n",
       "Nisson     1                   1\n",
       "Mecedes    1                   1\n",
       "Name: count, dtype: int64"
      ]
     },
     "execution_count": 4,
     "metadata": {},
     "output_type": "execute_result"
    }
   ],
   "source": [
    "df.value_counts([\"make\", \"fraud_found_p\"])"
   ]
  },
  {
   "cell_type": "code",
   "execution_count": 5,
   "metadata": {},
   "outputs": [
    {
     "data": {
      "text/plain": [
       "accident_area            object\n",
       "address_change_claim     object\n",
       "age                       int64\n",
       "age_of_policy_holder     object\n",
       "age_of_vehicle           object\n",
       "agent_type               object\n",
       "base_policy              object\n",
       "day_of_week              object\n",
       "day_of_week_claimed      object\n",
       "days_policy_accident     object\n",
       "days_policy_claim        object\n",
       "deductible                int64\n",
       "driver_rating             int64\n",
       "fault                    object\n",
       "fraud_found_p             int64\n",
       "make                     object\n",
       "marital_status           object\n",
       "month                    object\n",
       "month_claimed            object\n",
       "number_of_cars           object\n",
       "number_of_suppliments    object\n",
       "past_number_of_claims    object\n",
       "police_report_filed      object\n",
       "policy_number             int64\n",
       "policy_type              object\n",
       "rep_number                int64\n",
       "sex                      object\n",
       "vehicle_category         object\n",
       "vehicle_price            object\n",
       "week_of_month             int64\n",
       "week_of_month_claimed     int64\n",
       "witness_present          object\n",
       "year                      int64\n",
       "dtype: object"
      ]
     },
     "execution_count": 5,
     "metadata": {},
     "output_type": "execute_result"
    }
   ],
   "source": [
    "df[sorted(df.columns)].dtypes"
   ]
  },
  {
   "cell_type": "code",
   "execution_count": 6,
   "metadata": {},
   "outputs": [],
   "source": [
    "y = \"fraud_found_p\"\n",
    "\n",
    "# some generic cleaning\n",
    "df = df.loc[df.day_of_week_claimed!=0]\n",
    "df = df.loc[df.policy_type!=\"Sport - Liability\"]\n",
    "df[\"vehicle_price\"] = df[\"vehicle_price\"].str.replace(\"less than \", \"\").str.replace(\"more than \", \"\").str.split(\" to\").str[0].astype(int)\n",
    "df[\"past_number_of_claims\"]= df[\"past_number_of_claims\"].str.replace(\"none\", \"0\").str.replace(\"more than \", \"\").str.split(\"\").str[1:3].str.join(\"\").str.strip().astype(int)\n",
    "df[\"days_policy_claim\"] = df[\"days_policy_claim\"].str.replace(\"none\", \"0\").str.replace(\"more than \", \"\").str.split(\"\").str[1:3].str.join(\"\").str.strip().astype(int)\n",
    "df[\"days_policy_accident\"] = df[\"days_policy_accident\"].str.replace(\"none\", \"0\").str.replace(\"more than \", \"\").str.split(\"\").str[1:3].str.join(\"\").str.strip().astype(int)\n",
    "df[\"age_of_vehicle\"] = df[\"age_of_vehicle\"].str.replace(\"new\", \"0\").str.replace(\"more than \", \"\").str.split(\"\").str[1].astype(int)\n",
    "df[\"age_of_policy_holder\"] = df[\"age_of_policy_holder\"].str.replace(\"over \", \"\").str.split(\"\").str[1:3].str.join(\"\").astype(int)\n",
    "df[\"address_change_claim\"] = df[\"address_change_claim\"].str.split(\"\").str[1].str.replace(\"n\", \"0\").str.replace(\"u\", \"0.25\").astype(float)\n",
    "df[\"number_of_suppliments\"] = df[\"number_of_suppliments\"].str.split(\"\").str[1].str.replace(\"n\", \"0\").str.replace(\"m\", \"5\").astype(int)\n",
    "df['number_of_cars'] = df.number_of_cars.str.split(\"\").str[1].str.replace(\"m\", \"8\")\n",
    "df[\"number_of_cars_as_int\"] = df[\"number_of_cars\"].str.split(\"\").str[1].str.replace(\"m\", \"8\").astype(int)\n",
    "COLUMNS_TO_DROP = [\"address_change_claim\", \"number_of_cars\", \"policy_number\"]\n",
    "assert df[y].isna().any() == False\n",
    "# drop single row with Lexus as encoder can't handle cases seen in only train, while encoding test\n",
    "drop_condition = ((df.make.isin([\"Lexus\", \"Ferrari\", \"Mecedes\"])) | (\n",
    "    df.make.isin([\"BMW\", \"Nisson\", \"Mecedes\", \"Dodge\"]) & (df[y] == 1)))\n",
    "raw_features = df.drop(\n",
    "    COLUMNS_TO_DROP, axis=1).loc[~drop_condition]\n",
    "\n",
    "# ML tuning\n",
    "# add make otherwise there are unknown brands in test set, and encoder can't handle\n",
    "train, test = train_test_split(\n",
    "    raw_features, test_size=0.2, random_state=0, stratify=raw_features[[y, \"make\"]])\n",
    "\n",
    "fit_le = LabelEncoder().fit(train[y])"
   ]
  },
  {
   "cell_type": "code",
   "execution_count": 7,
   "metadata": {},
   "outputs": [
    {
     "data": {
      "text/plain": [
       "11"
      ]
     },
     "execution_count": 7,
     "metadata": {},
     "output_type": "execute_result"
    }
   ],
   "source": [
    "df.shape[0] - raw_features.shape[0]"
   ]
  },
  {
   "cell_type": "code",
   "execution_count": 8,
   "metadata": {},
   "outputs": [],
   "source": [
    "# def build_column_transformer_for_df(train_x: pd.DataFrame, text_columns:List[str]) -> ColumnTransformer:\n",
    "#     \"\"\"Builds a column transformer for a pandas dataframe.\"\"\"\n",
    "#     # Get the categorical and numerical columns\n",
    "#     categorical_columns = train_x.select_dtypes(\n",
    "#         include='object').columns.to_list()\n",
    "#     numerical_columns = train_x.select_dtypes(\n",
    "#         include='number').columns.to_list()\n",
    "\n",
    "#     num_prep = Pipeline(steps=[\n",
    "#         ('num_imputer', SimpleImputer(strategy='median')),\n",
    "#         ('scaler', StandardScaler())\n",
    "#     ])\n",
    "\n",
    "#     cat_prep = Pipeline(steps=[\n",
    "#         ('cat_imputer', SimpleImputer(strategy='most_frequent')),\n",
    "#         ('encoder', OneHotEncoder(sparse_output=False))\n",
    "#     ])\n",
    "\n",
    "#     transformer = ColumnTransformer([\n",
    "#         ('text', TfidfVectorizer(), text_columns),\n",
    "#         ('num', num_prep, numerical_columns),\n",
    "#         ('cat', cat_prep, categorical_columns)\n",
    "#     ])\n",
    "\n",
    "#     return transformer"
   ]
  },
  {
   "cell_type": "code",
   "execution_count": 9,
   "metadata": {},
   "outputs": [],
   "source": [
    "# pipeline = build_sklearn_pipeline(train, y, model_name=\"logistic\", model=LogisticRegression())\n",
    "# pipeline.fit(train.drop(y, axis=1), train[y])"
   ]
  },
  {
   "cell_type": "code",
   "execution_count": 10,
   "metadata": {},
   "outputs": [
    {
     "name": "stdout",
     "output_type": "stream",
     "text": [
      "Fitting 5 folds for each of 576 candidates, totalling 2880 fits\n"
     ]
    },
    {
     "name": "stderr",
     "output_type": "stream",
     "text": [
      "/home/maarten/.local/share/virtualenvs/End-to-end-project---Customer-churn-PLUo0CZ0/lib/python3.11/site-packages/sklearn/model_selection/_validation.py:425: FitFailedWarning: \n",
      "1440 fits failed out of a total of 2880.\n",
      "The score on these train-test partitions for these parameters will be set to nan.\n",
      "If these failures are not expected, you can try to debug them by setting error_score='raise'.\n",
      "\n",
      "Below are more details about the failures:\n",
      "--------------------------------------------------------------------------------\n",
      "1440 fits failed with the following error:\n",
      "Traceback (most recent call last):\n",
      "  File \"/home/maarten/.local/share/virtualenvs/End-to-end-project---Customer-churn-PLUo0CZ0/lib/python3.11/site-packages/sklearn/model_selection/_validation.py\", line 732, in _fit_and_score\n",
      "    estimator.fit(X_train, y_train, **fit_params)\n",
      "  File \"/home/maarten/.local/share/virtualenvs/End-to-end-project---Customer-churn-PLUo0CZ0/lib/python3.11/site-packages/imblearn/pipeline.py\", line 293, in fit\n",
      "    Xt, yt = self._fit(X, y, **fit_params_steps)\n",
      "             ^^^^^^^^^^^^^^^^^^^^^^^^^^^^^^^^^^^\n",
      "  File \"/home/maarten/.local/share/virtualenvs/End-to-end-project---Customer-churn-PLUo0CZ0/lib/python3.11/site-packages/imblearn/pipeline.py\", line 250, in _fit\n",
      "    X, y, fitted_transformer = fit_resample_one_cached(\n",
      "                               ^^^^^^^^^^^^^^^^^^^^^^^^\n",
      "  File \"/home/maarten/.local/share/virtualenvs/End-to-end-project---Customer-churn-PLUo0CZ0/lib/python3.11/site-packages/joblib/memory.py\", line 353, in __call__\n",
      "    return self.func(*args, **kwargs)\n",
      "           ^^^^^^^^^^^^^^^^^^^^^^^^^^\n",
      "  File \"/home/maarten/.local/share/virtualenvs/End-to-end-project---Customer-churn-PLUo0CZ0/lib/python3.11/site-packages/imblearn/pipeline.py\", line 422, in _fit_resample_one\n",
      "    X_res, y_res = sampler.fit_resample(X, y, **fit_params)\n",
      "                   ^^^^^^^^^^^^^^^^^^^^^^^^^^^^^^^^^^^^^^^^\n",
      "  File \"/home/maarten/.local/share/virtualenvs/End-to-end-project---Customer-churn-PLUo0CZ0/lib/python3.11/site-packages/imblearn/base.py\", line 208, in fit_resample\n",
      "    return super().fit_resample(X, y)\n",
      "           ^^^^^^^^^^^^^^^^^^^^^^^^^^\n",
      "  File \"/home/maarten/.local/share/virtualenvs/End-to-end-project---Customer-churn-PLUo0CZ0/lib/python3.11/site-packages/imblearn/base.py\", line 108, in fit_resample\n",
      "    self.sampling_strategy_ = check_sampling_strategy(\n",
      "                              ^^^^^^^^^^^^^^^^^^^^^^^^\n",
      "  File \"/home/maarten/.local/share/virtualenvs/End-to-end-project---Customer-churn-PLUo0CZ0/lib/python3.11/site-packages/imblearn/utils/_validation.py\", line 550, in check_sampling_strategy\n",
      "    _sampling_strategy_float(sampling_strategy, y, sampling_type).items()\n",
      "    ^^^^^^^^^^^^^^^^^^^^^^^^^^^^^^^^^^^^^^^^^^^^^^^^^^^^^^^^^^^^^\n",
      "  File \"/home/maarten/.local/share/virtualenvs/End-to-end-project---Customer-churn-PLUo0CZ0/lib/python3.11/site-packages/imblearn/utils/_validation.py\", line 389, in _sampling_strategy_float\n",
      "    raise ValueError(\n",
      "ValueError: The specified ratio required to remove samples from the minority class while trying to generate new samples. Please increase the ratio.\n",
      "\n",
      "  warnings.warn(some_fits_failed_message, FitFailedWarning)\n",
      "/home/maarten/.local/share/virtualenvs/End-to-end-project---Customer-churn-PLUo0CZ0/lib/python3.11/site-packages/sklearn/model_selection/_search.py:976: UserWarning: One or more of the test scores are non-finite: [0.6252261         nan        nan        nan        nan        nan\n",
      " 0.64032409        nan        nan        nan        nan        nan\n",
      " 0.77223762        nan        nan        nan        nan        nan\n",
      " 0.77136404        nan        nan        nan        nan        nan\n",
      " 0.62843649 0.63127902        nan        nan        nan        nan\n",
      " 0.64561138 0.64925123        nan        nan        nan        nan\n",
      " 0.76970017 0.7729616         nan        nan        nan        nan\n",
      " 0.7672959  0.76731584        nan        nan        nan        nan\n",
      " 0.62794249 0.63056267 0.62767672        nan        nan        nan\n",
      " 0.65140264 0.64689331 0.65488115        nan        nan        nan\n",
      " 0.76682713 0.76922319 0.7735483         nan        nan        nan\n",
      " 0.76613952 0.76509931 0.77292406        nan        nan        nan\n",
      " 0.62763448 0.62983341 0.62712053        nan        nan        nan\n",
      " 0.65140205 0.6498966  0.65113041        nan        nan        nan\n",
      " 0.7702411  0.76882952 0.76488752        nan        nan        nan\n",
      " 0.76243044 0.76676728 0.77103431        nan        nan        nan\n",
      " 0.62621761 0.62511345 0.62119727 0.62695274        nan        nan\n",
      " 0.64770001 0.64533739 0.65044398 0.65945385        nan        nan\n",
      " 0.76882541 0.76682126 0.77139278 0.77109533        nan        nan\n",
      " 0.76375285 0.76685353 0.76529292 0.770281          nan        nan\n",
      " 0.62008607 0.62217998 0.6189825  0.61756856 0.61762313        nan\n",
      " 0.64587305 0.64254355 0.63365807 0.64634181 0.65001804        nan\n",
      " 0.76790078 0.76933173 0.77173072 0.7681513  0.77112584        nan\n",
      " 0.76449384 0.7630318  0.7673     0.76684003 0.76639825        nan\n",
      " 0.62899385        nan        nan        nan        nan        nan\n",
      " 0.6394065         nan        nan        nan        nan        nan\n",
      " 0.77248814        nan        nan        nan        nan        nan\n",
      " 0.76598815        nan        nan        nan        nan        nan\n",
      " 0.62935173 0.62905076        nan        nan        nan        nan\n",
      " 0.6453503  0.64692381        nan        nan        nan        nan\n",
      " 0.77027396 0.77070811        nan        nan        nan        nan\n",
      " 0.76707119 0.76998941        nan        nan        nan        nan\n",
      " 0.63011678 0.62959228 0.62926314        nan        nan        nan\n",
      " 0.65066106 0.64741136 0.64804968        nan        nan        nan\n",
      " 0.76888349 0.76992898 0.77119155        nan        nan        nan\n",
      " 0.76640529 0.76598053 0.76868167        nan        nan        nan\n",
      " 0.62680196 0.62495152 0.62435779        nan        nan        nan\n",
      " 0.64749643 0.64813358 0.65750602        nan        nan        nan\n",
      " 0.76950187 0.76960806 0.77291408        nan        nan        nan\n",
      " 0.76424039 0.76699316 0.76938805        nan        nan        nan\n",
      " 0.62450564 0.63014788 0.62893401 0.62581749        nan        nan\n",
      " 0.64562663 0.64384426 0.65753125 0.64180667        nan        nan\n",
      " 0.76918153 0.76803748 0.76825397 0.77032676        nan        nan\n",
      " 0.76439821 0.76722784 0.76399046 0.77145732        nan        nan\n",
      " 0.62091096 0.62243226 0.620089   0.62772952 0.62978941        nan\n",
      " 0.64192107 0.64089729 0.64255118 0.63763527 0.64042852        nan\n",
      " 0.76798233 0.7694168  0.76955115 0.76627211 0.77089468        nan\n",
      " 0.76624454 0.76667576 0.76453198 0.7667444  0.7695136         nan\n",
      " 0.62956646        nan        nan        nan        nan        nan\n",
      " 0.63787875        nan        nan        nan        nan        nan\n",
      " 0.77002931        nan        nan        nan        nan        nan\n",
      " 0.76656312        nan        nan        nan        nan        nan\n",
      " 0.62766088 0.62825285        nan        nan        nan        nan\n",
      " 0.64858768 0.64654246        nan        nan        nan        nan\n",
      " 0.769875   0.77161514        nan        nan        nan        nan\n",
      " 0.76441992 0.76748188        nan        nan        nan        nan\n",
      " 0.62892931 0.62873922 0.63016313        nan        nan        nan\n",
      " 0.65265113 0.6582347  0.65557462        nan        nan        nan\n",
      " 0.76953648 0.77194721 0.76943498        nan        nan        nan\n",
      " 0.76648215 0.76789022 0.77034729        nan        nan        nan\n",
      " 0.62946614 0.62632732 0.62977767        nan        nan        nan\n",
      " 0.64930638 0.65185029 0.65992966        nan        nan        nan\n",
      " 0.76905539 0.77230157 0.76963857        nan        nan        nan\n",
      " 0.7646147  0.76688521 0.76549298        nan        nan        nan\n",
      " 0.62572889 0.62386438 0.62379163 0.62274379        nan        nan\n",
      " 0.64866512 0.65564855 0.65256195 0.65092155        nan        nan\n",
      " 0.7684599  0.77106013 0.76867521 0.77226344        nan        nan\n",
      " 0.76452435 0.76880018 0.76516444 0.76574526        nan        nan\n",
      " 0.62442057 0.61989305 0.62251264 0.62231375 0.6136999         nan\n",
      " 0.64207303 0.65280484 0.64365417 0.65357517 0.63700223        nan\n",
      " 0.76899614 0.7704089  0.76815892 0.76792777 0.77629637        nan\n",
      " 0.76651677 0.76685118 0.76859601 0.7706512  0.7686846         nan\n",
      " 0.63088066        nan        nan        nan        nan        nan\n",
      " 0.6408263         nan        nan        nan        nan        nan\n",
      " 0.76944554        nan        nan        nan        nan        nan\n",
      " 0.77126606        nan        nan        nan        nan        nan\n",
      " 0.63004403 0.62850572        nan        nan        nan        nan\n",
      " 0.64401498 0.64155439        nan        nan        nan        nan\n",
      " 0.7701971  0.77435911        nan        nan        nan        nan\n",
      " 0.76628913 0.76484821        nan        nan        nan        nan\n",
      " 0.63131833 0.62977533 0.63005987        nan        nan        nan\n",
      " 0.6454518  0.64520421 0.6556063         nan        nan        nan\n",
      " 0.76958576 0.77202289 0.77457267        nan        nan        nan\n",
      " 0.76396289 0.76763207 0.76716741        nan        nan        nan\n",
      " 0.62728363 0.62698794 0.63455747        nan        nan        nan\n",
      " 0.6528506  0.64043732 0.643538          nan        nan        nan\n",
      " 0.76898616 0.76893923 0.77332653        nan        nan        nan\n",
      " 0.76400513 0.77031679 0.76710111        nan        nan        nan\n",
      " 0.6270161  0.62283766 0.62229556 0.62456255        nan        nan\n",
      " 0.64943663 0.65512522 0.65583688 0.66484322        nan        nan\n",
      " 0.77001992 0.76926602 0.76944848 0.77277269        nan        nan\n",
      " 0.76645868 0.76769954 0.76356921 0.76993543        nan        nan\n",
      " 0.61956743 0.62131285 0.62444169 0.61711505 0.62183324        nan\n",
      " 0.64176501 0.64261513 0.63851531 0.63880103 0.65778939        nan\n",
      " 0.77126958 0.76638124 0.7671721  0.77235262 0.77109709        nan\n",
      " 0.76510753 0.76773474 0.76423218 0.7723004  0.76823754        nan]\n",
      "  warnings.warn(\n"
     ]
    },
    {
     "name": "stdout",
     "output_type": "stream",
     "text": [
      "Best score: 0.7762963745222107\n",
      "Best parameters: {'logistic__C': 100, 'logistic__penalty': 'l2', 'over__sampling_strategy': 1, 'pca__n_components': 22, 'under__sampling_strategy': 0.7}\n"
     ]
    },
    {
     "data": {
      "text/html": [
       "<style>#sk-container-id-1 {color: black;}#sk-container-id-1 pre{padding: 0;}#sk-container-id-1 div.sk-toggleable {background-color: white;}#sk-container-id-1 label.sk-toggleable__label {cursor: pointer;display: block;width: 100%;margin-bottom: 0;padding: 0.3em;box-sizing: border-box;text-align: center;}#sk-container-id-1 label.sk-toggleable__label-arrow:before {content: \"▸\";float: left;margin-right: 0.25em;color: #696969;}#sk-container-id-1 label.sk-toggleable__label-arrow:hover:before {color: black;}#sk-container-id-1 div.sk-estimator:hover label.sk-toggleable__label-arrow:before {color: black;}#sk-container-id-1 div.sk-toggleable__content {max-height: 0;max-width: 0;overflow: hidden;text-align: left;background-color: #f0f8ff;}#sk-container-id-1 div.sk-toggleable__content pre {margin: 0.2em;color: black;border-radius: 0.25em;background-color: #f0f8ff;}#sk-container-id-1 input.sk-toggleable__control:checked~div.sk-toggleable__content {max-height: 200px;max-width: 100%;overflow: auto;}#sk-container-id-1 input.sk-toggleable__control:checked~label.sk-toggleable__label-arrow:before {content: \"▾\";}#sk-container-id-1 div.sk-estimator input.sk-toggleable__control:checked~label.sk-toggleable__label {background-color: #d4ebff;}#sk-container-id-1 div.sk-label input.sk-toggleable__control:checked~label.sk-toggleable__label {background-color: #d4ebff;}#sk-container-id-1 input.sk-hidden--visually {border: 0;clip: rect(1px 1px 1px 1px);clip: rect(1px, 1px, 1px, 1px);height: 1px;margin: -1px;overflow: hidden;padding: 0;position: absolute;width: 1px;}#sk-container-id-1 div.sk-estimator {font-family: monospace;background-color: #f0f8ff;border: 1px dotted black;border-radius: 0.25em;box-sizing: border-box;margin-bottom: 0.5em;}#sk-container-id-1 div.sk-estimator:hover {background-color: #d4ebff;}#sk-container-id-1 div.sk-parallel-item::after {content: \"\";width: 100%;border-bottom: 1px solid gray;flex-grow: 1;}#sk-container-id-1 div.sk-label:hover label.sk-toggleable__label {background-color: #d4ebff;}#sk-container-id-1 div.sk-serial::before {content: \"\";position: absolute;border-left: 1px solid gray;box-sizing: border-box;top: 0;bottom: 0;left: 50%;z-index: 0;}#sk-container-id-1 div.sk-serial {display: flex;flex-direction: column;align-items: center;background-color: white;padding-right: 0.2em;padding-left: 0.2em;position: relative;}#sk-container-id-1 div.sk-item {position: relative;z-index: 1;}#sk-container-id-1 div.sk-parallel {display: flex;align-items: stretch;justify-content: center;background-color: white;position: relative;}#sk-container-id-1 div.sk-item::before, #sk-container-id-1 div.sk-parallel-item::before {content: \"\";position: absolute;border-left: 1px solid gray;box-sizing: border-box;top: 0;bottom: 0;left: 50%;z-index: -1;}#sk-container-id-1 div.sk-parallel-item {display: flex;flex-direction: column;z-index: 1;position: relative;background-color: white;}#sk-container-id-1 div.sk-parallel-item:first-child::after {align-self: flex-end;width: 50%;}#sk-container-id-1 div.sk-parallel-item:last-child::after {align-self: flex-start;width: 50%;}#sk-container-id-1 div.sk-parallel-item:only-child::after {width: 0;}#sk-container-id-1 div.sk-dashed-wrapped {border: 1px dashed gray;margin: 0 0.4em 0.5em 0.4em;box-sizing: border-box;padding-bottom: 0.4em;background-color: white;}#sk-container-id-1 div.sk-label label {font-family: monospace;font-weight: bold;display: inline-block;line-height: 1.2em;}#sk-container-id-1 div.sk-label-container {text-align: center;}#sk-container-id-1 div.sk-container {/* jupyter's `normalize.less` sets `[hidden] { display: none; }` but bootstrap.min.css set `[hidden] { display: none !important; }` so we also need the `!important` here to be able to override the default hidden behavior on the sphinx rendered scikit-learn.org. See: https://github.com/scikit-learn/scikit-learn/issues/21755 */display: inline-block !important;position: relative;}#sk-container-id-1 div.sk-text-repr-fallback {display: none;}</style><div id=\"sk-container-id-1\" class=\"sk-top-container\"><div class=\"sk-text-repr-fallback\"><pre>Pipeline(steps=[(&#x27;preprocessor&#x27;,\n",
       "                 ColumnTransformer(transformers=[(&#x27;num&#x27;,\n",
       "                                                  Pipeline(steps=[(&#x27;num_imputer&#x27;,\n",
       "                                                                   SimpleImputer(strategy=&#x27;median&#x27;)),\n",
       "                                                                  (&#x27;scaler&#x27;,\n",
       "                                                                   StandardScaler())]),\n",
       "                                                  [&#x27;week_of_month&#x27;,\n",
       "                                                   &#x27;week_of_month_claimed&#x27;,\n",
       "                                                   &#x27;age&#x27;, &#x27;vehicle_price&#x27;,\n",
       "                                                   &#x27;rep_number&#x27;, &#x27;deductible&#x27;,\n",
       "                                                   &#x27;driver_rating&#x27;,\n",
       "                                                   &#x27;days_policy_accident&#x27;,\n",
       "                                                   &#x27;days_policy_claim&#x27;,\n",
       "                                                   &#x27;past_number_of_claims&#x27;,\n",
       "                                                   &#x27;age_of_vehi...\n",
       "                                                   &#x27;make&#x27;, &#x27;accident_area&#x27;,\n",
       "                                                   &#x27;day_of_week_claimed&#x27;,\n",
       "                                                   &#x27;month_claimed&#x27;, &#x27;sex&#x27;,\n",
       "                                                   &#x27;marital_status&#x27;, &#x27;fault&#x27;,\n",
       "                                                   &#x27;policy_type&#x27;,\n",
       "                                                   &#x27;vehicle_category&#x27;,\n",
       "                                                   &#x27;police_report_filed&#x27;,\n",
       "                                                   &#x27;witness_present&#x27;,\n",
       "                                                   &#x27;agent_type&#x27;,\n",
       "                                                   &#x27;base_policy&#x27;])])),\n",
       "                (&#x27;under&#x27;, RandomUnderSampler(sampling_strategy=0.7)),\n",
       "                (&#x27;over&#x27;, SMOTE(sampling_strategy=1)),\n",
       "                (&#x27;pca&#x27;, PCA(n_components=22)),\n",
       "                (&#x27;logistic&#x27;, LogisticRegression(C=100))])</pre><b>In a Jupyter environment, please rerun this cell to show the HTML representation or trust the notebook. <br />On GitHub, the HTML representation is unable to render, please try loading this page with nbviewer.org.</b></div><div class=\"sk-container\" hidden><div class=\"sk-item sk-dashed-wrapped\"><div class=\"sk-label-container\"><div class=\"sk-label sk-toggleable\"><input class=\"sk-toggleable__control sk-hidden--visually\" id=\"sk-estimator-id-1\" type=\"checkbox\" ><label for=\"sk-estimator-id-1\" class=\"sk-toggleable__label sk-toggleable__label-arrow\">Pipeline</label><div class=\"sk-toggleable__content\"><pre>Pipeline(steps=[(&#x27;preprocessor&#x27;,\n",
       "                 ColumnTransformer(transformers=[(&#x27;num&#x27;,\n",
       "                                                  Pipeline(steps=[(&#x27;num_imputer&#x27;,\n",
       "                                                                   SimpleImputer(strategy=&#x27;median&#x27;)),\n",
       "                                                                  (&#x27;scaler&#x27;,\n",
       "                                                                   StandardScaler())]),\n",
       "                                                  [&#x27;week_of_month&#x27;,\n",
       "                                                   &#x27;week_of_month_claimed&#x27;,\n",
       "                                                   &#x27;age&#x27;, &#x27;vehicle_price&#x27;,\n",
       "                                                   &#x27;rep_number&#x27;, &#x27;deductible&#x27;,\n",
       "                                                   &#x27;driver_rating&#x27;,\n",
       "                                                   &#x27;days_policy_accident&#x27;,\n",
       "                                                   &#x27;days_policy_claim&#x27;,\n",
       "                                                   &#x27;past_number_of_claims&#x27;,\n",
       "                                                   &#x27;age_of_vehi...\n",
       "                                                   &#x27;make&#x27;, &#x27;accident_area&#x27;,\n",
       "                                                   &#x27;day_of_week_claimed&#x27;,\n",
       "                                                   &#x27;month_claimed&#x27;, &#x27;sex&#x27;,\n",
       "                                                   &#x27;marital_status&#x27;, &#x27;fault&#x27;,\n",
       "                                                   &#x27;policy_type&#x27;,\n",
       "                                                   &#x27;vehicle_category&#x27;,\n",
       "                                                   &#x27;police_report_filed&#x27;,\n",
       "                                                   &#x27;witness_present&#x27;,\n",
       "                                                   &#x27;agent_type&#x27;,\n",
       "                                                   &#x27;base_policy&#x27;])])),\n",
       "                (&#x27;under&#x27;, RandomUnderSampler(sampling_strategy=0.7)),\n",
       "                (&#x27;over&#x27;, SMOTE(sampling_strategy=1)),\n",
       "                (&#x27;pca&#x27;, PCA(n_components=22)),\n",
       "                (&#x27;logistic&#x27;, LogisticRegression(C=100))])</pre></div></div></div><div class=\"sk-serial\"><div class=\"sk-item sk-dashed-wrapped\"><div class=\"sk-label-container\"><div class=\"sk-label sk-toggleable\"><input class=\"sk-toggleable__control sk-hidden--visually\" id=\"sk-estimator-id-2\" type=\"checkbox\" ><label for=\"sk-estimator-id-2\" class=\"sk-toggleable__label sk-toggleable__label-arrow\">preprocessor: ColumnTransformer</label><div class=\"sk-toggleable__content\"><pre>ColumnTransformer(transformers=[(&#x27;num&#x27;,\n",
       "                                 Pipeline(steps=[(&#x27;num_imputer&#x27;,\n",
       "                                                  SimpleImputer(strategy=&#x27;median&#x27;)),\n",
       "                                                 (&#x27;scaler&#x27;, StandardScaler())]),\n",
       "                                 [&#x27;week_of_month&#x27;, &#x27;week_of_month_claimed&#x27;,\n",
       "                                  &#x27;age&#x27;, &#x27;vehicle_price&#x27;, &#x27;rep_number&#x27;,\n",
       "                                  &#x27;deductible&#x27;, &#x27;driver_rating&#x27;,\n",
       "                                  &#x27;days_policy_accident&#x27;, &#x27;days_policy_claim&#x27;,\n",
       "                                  &#x27;past_number_of_claims&#x27;, &#x27;age_of_vehicle&#x27;,\n",
       "                                  &#x27;age_of_policy_holder&#x27;,\n",
       "                                  &#x27;num...\n",
       "                                  &#x27;number_of_cars_as_int&#x27;]),\n",
       "                                (&#x27;cat&#x27;,\n",
       "                                 Pipeline(steps=[(&#x27;cat_imputer&#x27;,\n",
       "                                                  SimpleImputer(strategy=&#x27;most_frequent&#x27;)),\n",
       "                                                 (&#x27;encoder&#x27;,\n",
       "                                                  OneHotEncoder(sparse_output=False))]),\n",
       "                                 [&#x27;month&#x27;, &#x27;day_of_week&#x27;, &#x27;make&#x27;,\n",
       "                                  &#x27;accident_area&#x27;, &#x27;day_of_week_claimed&#x27;,\n",
       "                                  &#x27;month_claimed&#x27;, &#x27;sex&#x27;, &#x27;marital_status&#x27;,\n",
       "                                  &#x27;fault&#x27;, &#x27;policy_type&#x27;, &#x27;vehicle_category&#x27;,\n",
       "                                  &#x27;police_report_filed&#x27;, &#x27;witness_present&#x27;,\n",
       "                                  &#x27;agent_type&#x27;, &#x27;base_policy&#x27;])])</pre></div></div></div><div class=\"sk-parallel\"><div class=\"sk-parallel-item\"><div class=\"sk-item\"><div class=\"sk-label-container\"><div class=\"sk-label sk-toggleable\"><input class=\"sk-toggleable__control sk-hidden--visually\" id=\"sk-estimator-id-3\" type=\"checkbox\" ><label for=\"sk-estimator-id-3\" class=\"sk-toggleable__label sk-toggleable__label-arrow\">num</label><div class=\"sk-toggleable__content\"><pre>[&#x27;week_of_month&#x27;, &#x27;week_of_month_claimed&#x27;, &#x27;age&#x27;, &#x27;vehicle_price&#x27;, &#x27;rep_number&#x27;, &#x27;deductible&#x27;, &#x27;driver_rating&#x27;, &#x27;days_policy_accident&#x27;, &#x27;days_policy_claim&#x27;, &#x27;past_number_of_claims&#x27;, &#x27;age_of_vehicle&#x27;, &#x27;age_of_policy_holder&#x27;, &#x27;number_of_suppliments&#x27;, &#x27;year&#x27;, &#x27;number_of_cars_as_int&#x27;]</pre></div></div></div><div class=\"sk-serial\"><div class=\"sk-item\"><div class=\"sk-serial\"><div class=\"sk-item\"><div class=\"sk-estimator sk-toggleable\"><input class=\"sk-toggleable__control sk-hidden--visually\" id=\"sk-estimator-id-4\" type=\"checkbox\" ><label for=\"sk-estimator-id-4\" class=\"sk-toggleable__label sk-toggleable__label-arrow\">SimpleImputer</label><div class=\"sk-toggleable__content\"><pre>SimpleImputer(strategy=&#x27;median&#x27;)</pre></div></div></div><div class=\"sk-item\"><div class=\"sk-estimator sk-toggleable\"><input class=\"sk-toggleable__control sk-hidden--visually\" id=\"sk-estimator-id-5\" type=\"checkbox\" ><label for=\"sk-estimator-id-5\" class=\"sk-toggleable__label sk-toggleable__label-arrow\">StandardScaler</label><div class=\"sk-toggleable__content\"><pre>StandardScaler()</pre></div></div></div></div></div></div></div></div><div class=\"sk-parallel-item\"><div class=\"sk-item\"><div class=\"sk-label-container\"><div class=\"sk-label sk-toggleable\"><input class=\"sk-toggleable__control sk-hidden--visually\" id=\"sk-estimator-id-6\" type=\"checkbox\" ><label for=\"sk-estimator-id-6\" class=\"sk-toggleable__label sk-toggleable__label-arrow\">cat</label><div class=\"sk-toggleable__content\"><pre>[&#x27;month&#x27;, &#x27;day_of_week&#x27;, &#x27;make&#x27;, &#x27;accident_area&#x27;, &#x27;day_of_week_claimed&#x27;, &#x27;month_claimed&#x27;, &#x27;sex&#x27;, &#x27;marital_status&#x27;, &#x27;fault&#x27;, &#x27;policy_type&#x27;, &#x27;vehicle_category&#x27;, &#x27;police_report_filed&#x27;, &#x27;witness_present&#x27;, &#x27;agent_type&#x27;, &#x27;base_policy&#x27;]</pre></div></div></div><div class=\"sk-serial\"><div class=\"sk-item\"><div class=\"sk-serial\"><div class=\"sk-item\"><div class=\"sk-estimator sk-toggleable\"><input class=\"sk-toggleable__control sk-hidden--visually\" id=\"sk-estimator-id-7\" type=\"checkbox\" ><label for=\"sk-estimator-id-7\" class=\"sk-toggleable__label sk-toggleable__label-arrow\">SimpleImputer</label><div class=\"sk-toggleable__content\"><pre>SimpleImputer(strategy=&#x27;most_frequent&#x27;)</pre></div></div></div><div class=\"sk-item\"><div class=\"sk-estimator sk-toggleable\"><input class=\"sk-toggleable__control sk-hidden--visually\" id=\"sk-estimator-id-8\" type=\"checkbox\" ><label for=\"sk-estimator-id-8\" class=\"sk-toggleable__label sk-toggleable__label-arrow\">OneHotEncoder</label><div class=\"sk-toggleable__content\"><pre>OneHotEncoder(sparse_output=False)</pre></div></div></div></div></div></div></div></div></div></div><div class=\"sk-item\"><div class=\"sk-estimator sk-toggleable\"><input class=\"sk-toggleable__control sk-hidden--visually\" id=\"sk-estimator-id-9\" type=\"checkbox\" ><label for=\"sk-estimator-id-9\" class=\"sk-toggleable__label sk-toggleable__label-arrow\">RandomUnderSampler</label><div class=\"sk-toggleable__content\"><pre>RandomUnderSampler(sampling_strategy=0.7)</pre></div></div></div><div class=\"sk-item\"><div class=\"sk-estimator sk-toggleable\"><input class=\"sk-toggleable__control sk-hidden--visually\" id=\"sk-estimator-id-10\" type=\"checkbox\" ><label for=\"sk-estimator-id-10\" class=\"sk-toggleable__label sk-toggleable__label-arrow\">SMOTE</label><div class=\"sk-toggleable__content\"><pre>SMOTE(sampling_strategy=1)</pre></div></div></div><div class=\"sk-item\"><div class=\"sk-estimator sk-toggleable\"><input class=\"sk-toggleable__control sk-hidden--visually\" id=\"sk-estimator-id-11\" type=\"checkbox\" ><label for=\"sk-estimator-id-11\" class=\"sk-toggleable__label sk-toggleable__label-arrow\">PCA</label><div class=\"sk-toggleable__content\"><pre>PCA(n_components=22)</pre></div></div></div><div class=\"sk-item\"><div class=\"sk-estimator sk-toggleable\"><input class=\"sk-toggleable__control sk-hidden--visually\" id=\"sk-estimator-id-12\" type=\"checkbox\" ><label for=\"sk-estimator-id-12\" class=\"sk-toggleable__label sk-toggleable__label-arrow\">LogisticRegression</label><div class=\"sk-toggleable__content\"><pre>LogisticRegression(C=100)</pre></div></div></div></div></div></div></div>"
      ],
      "text/plain": [
       "Pipeline(steps=[('preprocessor',\n",
       "                 ColumnTransformer(transformers=[('num',\n",
       "                                                  Pipeline(steps=[('num_imputer',\n",
       "                                                                   SimpleImputer(strategy='median')),\n",
       "                                                                  ('scaler',\n",
       "                                                                   StandardScaler())]),\n",
       "                                                  ['week_of_month',\n",
       "                                                   'week_of_month_claimed',\n",
       "                                                   'age', 'vehicle_price',\n",
       "                                                   'rep_number', 'deductible',\n",
       "                                                   'driver_rating',\n",
       "                                                   'days_policy_accident',\n",
       "                                                   'days_policy_claim',\n",
       "                                                   'past_number_of_claims',\n",
       "                                                   'age_of_vehi...\n",
       "                                                   'make', 'accident_area',\n",
       "                                                   'day_of_week_claimed',\n",
       "                                                   'month_claimed', 'sex',\n",
       "                                                   'marital_status', 'fault',\n",
       "                                                   'policy_type',\n",
       "                                                   'vehicle_category',\n",
       "                                                   'police_report_filed',\n",
       "                                                   'witness_present',\n",
       "                                                   'agent_type',\n",
       "                                                   'base_policy'])])),\n",
       "                ('under', RandomUnderSampler(sampling_strategy=0.7)),\n",
       "                ('over', SMOTE(sampling_strategy=1)),\n",
       "                ('pca', PCA(n_components=22)),\n",
       "                ('logistic', LogisticRegression(C=100))])"
      ]
     },
     "execution_count": 10,
     "metadata": {},
     "output_type": "execute_result"
    }
   ],
   "source": [
    "param_grid = {\n",
    "    'logistic__penalty': ['l2'],\n",
    "    'logistic__C': [1, 10, 100, 1000],\n",
    "    'pca__n_components': list(range(6, 32, 8)),\n",
    "    'under__sampling_strategy': [0.1, 0.2, 0.3, 0.5, 0.7, 1],\n",
    "    'over__sampling_strategy': [0.2, 0.3, 0.4, 0.5, 0.7, 1]\n",
    "}\n",
    "\n",
    "model = LogisticRegression()\n",
    "\n",
    "MODEL_NAME = 'logistic'\n",
    "\n",
    "# text_columns = [\"address_change_claim\"]\n",
    "\n",
    "# steps = build_column_transformer_for_df(\n",
    "#     train_x=train.drop(y, axis=1))._transformers\n",
    "# steps.insert(0, ('text', TfidfVectorizer(), [text_column]))\n",
    "# preprocessor = ColumnTransformer(steps)\n",
    "\n",
    "# preprocessor = build_column_transformer_for_df(train.drop(y, axis=1), text_columns)\n",
    "# pipeline = build_sklearn_pipeline(\n",
    "#     train, y_col_name=y, model_name=MODEL_NAME, model=model, transformer=preprocessor)\n",
    "grid = sklearn_gridsearch_using_pipeline(train, y_col_name=y, model_name=MODEL_NAME,\n",
    "                                  model=model, fit_le=fit_le, param_grid=param_grid, verbose=1, n_folds=5) #, pipeline=pipeline)\n",
    "best_pipeline_log_reg = grid.best_estimator_\n",
    "best_pipeline_log_reg"
   ]
  },
  {
   "cell_type": "code",
   "execution_count": 11,
   "metadata": {},
   "outputs": [],
   "source": [
    "write_pipeline(best_pipeline_log_reg, MODEL_NAME, DATASET_NAME)"
   ]
  },
  {
   "cell_type": "code",
   "execution_count": 12,
   "metadata": {},
   "outputs": [],
   "source": [
    "best_pipeline_log_reg = load_pipeline(model_name=MODEL_NAME, dataset_name=DATASET_NAME)"
   ]
  },
  {
   "cell_type": "code",
   "execution_count": 13,
   "metadata": {},
   "outputs": [],
   "source": [
    "## To check if categorical values are in train but not in test \n",
    "# categorical_columns = train.select_dtypes(\n",
    "#     include='object').columns.to_list()\n",
    "\n",
    "# for feature in categorical_columns:\n",
    "#     diff = set(train[feature]).difference(test[feature])\n",
    "#     if len(diff)>0:\n",
    "#         print(feature)"
   ]
  },
  {
   "cell_type": "code",
   "execution_count": 15,
   "metadata": {},
   "outputs": [
    {
     "data": {
      "image/png": "[encoded data removed]",
      "text/plain": [
       "<Figure size 750x750 with 2 Axes>"
      ]
     },
     "metadata": {},
     "output_type": "display_data"
    },
    {
     "data": {
      "image/png": "[encoded data removed]",
      "text/plain": [
       "<Figure size 640x480 with 1 Axes>"
      ]
     },
     "metadata": {},
     "output_type": "display_data"
    }
   ],
   "source": [
    "# one case can't get fixed, won't affect results\n",
    "fixed_test_set = test.reset_index(drop=True).drop(1136, axis=0)\n",
    "\n",
    "evaluate_model(best_pipeline_log_reg, fit_le=fit_le, test=fixed_test_set, y_col_name=y)"
   ]
  }
 ],
 "metadata": {
  "kernelspec": {
   "display_name": "End-to-end-project---Customer-churn-PLUo0CZ0",
   "language": "python",
   "name": "python3"
  },
  "language_info": {
   "codemirror_mode": {
    "name": "ipython",
    "version": 3
   },
   "file_extension": ".py",
   "mimetype": "text/x-python",
   "name": "python",
   "nbconvert_exporter": "python",
   "pygments_lexer": "ipython3",
   "version": "3.11.0"
  },
  "orig_nbformat": 4
 },
 "nbformat": 4,
 "nbformat_minor": 2
}
