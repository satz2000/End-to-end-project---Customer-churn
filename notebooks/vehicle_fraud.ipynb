{
 "cells": [
  {
   "cell_type": "code",
   "execution_count": 1,
   "metadata": {},
   "outputs": [],
   "source": [
    "from pathlib import Path\n",
    "from sklearn.linear_model import LogisticRegression\n",
    "from sklearn.feature_extraction.text import TfidfVectorizer\n",
    "from sklearn.model_selection import train_test_split\n",
    "from xgboost import XGBClassifier\n",
    "from typing import List\n",
    "import sys\n",
    "\n",
    "\n",
    "sys.path.append(\"../\")\n",
    "\n",
    "from src.common_functions import *"
   ]
  },
  {
   "cell_type": "code",
   "execution_count": 2,
   "metadata": {},
   "outputs": [
    {
     "name": "stdout",
     "output_type": "stream",
     "text": [
      "15420\n"
     ]
    },
    {
     "data": {
      "text/plain": [
       "fraud_found_p\n",
       "0    94.014267\n",
       "1     5.985733\n",
       "Name: count, dtype: float64"
      ]
     },
     "execution_count": 2,
     "metadata": {},
     "output_type": "execute_result"
    }
   ],
   "source": [
    "# sample data\n",
    "RAW_DATA_PATH = \"../datasets/fraud/vehicle_fraud.csv\"\n",
    "DATASET_NAME = Path(RAW_DATA_PATH).stem\n",
    "df = pd.read_csv(RAW_DATA_PATH)\n",
    "df = df.rename(columns=dict(zip(df.columns, list(map(to_snake_case, df.columns)))))\n",
    "df.head()\n",
    "print(df.shape[0])\n",
    "df[\"fraud_found_p\"].value_counts()/df.shape[0]*100"
   ]
  },
  {
   "cell_type": "code",
   "execution_count": 3,
   "metadata": {},
   "outputs": [
    {
     "data": {
      "text/plain": [
       "month                    False\n",
       "week_of_month            False\n",
       "day_of_week              False\n",
       "make                     False\n",
       "accident_area            False\n",
       "day_of_week_claimed      False\n",
       "month_claimed            False\n",
       "week_of_month_claimed    False\n",
       "sex                      False\n",
       "marital_status           False\n",
       "age                      False\n",
       "fault                    False\n",
       "policy_type              False\n",
       "vehicle_category         False\n",
       "vehicle_price            False\n",
       "fraud_found_p            False\n",
       "policy_number            False\n",
       "rep_number               False\n",
       "deductible               False\n",
       "driver_rating            False\n",
       "days_policy_accident     False\n",
       "days_policy_claim        False\n",
       "past_number_of_claims    False\n",
       "age_of_vehicle           False\n",
       "age_of_policy_holder     False\n",
       "police_report_filed      False\n",
       "witness_present          False\n",
       "agent_type               False\n",
       "number_of_suppliments    False\n",
       "address_change_claim     False\n",
       "number_of_cars           False\n",
       "year                     False\n",
       "base_policy              False\n",
       "dtype: bool"
      ]
     },
     "execution_count": 3,
     "metadata": {},
     "output_type": "execute_result"
    }
   ],
   "source": [
    "df.isna().any()"
   ]
  },
  {
   "cell_type": "code",
   "execution_count": 4,
   "metadata": {},
   "outputs": [
    {
     "data": {
      "text/plain": [
       "make       fraud_found_p\n",
       "Pontiac    0                3624\n",
       "Toyota     0                2935\n",
       "Honda      0                2622\n",
       "Mazda      0                2231\n",
       "Chevrolet  0                1587\n",
       "Ford       0                 417\n",
       "Accura     0                 413\n",
       "VW         0                 275\n",
       "Pontiac    1                 213\n",
       "Toyota     1                 186\n",
       "Honda      1                 179\n",
       "Mazda      1                 123\n",
       "Dodge      0                 107\n",
       "Saab       0                  97\n",
       "Chevrolet  1                  94\n",
       "Mercury    0                  77\n",
       "Accura     1                  59\n",
       "Saturn     0                  52\n",
       "Ford       1                  33\n",
       "Nisson     0                  29\n",
       "BMW        0                  14\n",
       "Saab       1                  11\n",
       "VW         1                   8\n",
       "Jaguar     0                   6\n",
       "Saturn     1                   6\n",
       "Mercury    1                   6\n",
       "Porche     0                   5\n",
       "Mecedes    0                   3\n",
       "Ferrari    0                   2\n",
       "Dodge      1                   2\n",
       "Lexus      0                   1\n",
       "BMW        1                   1\n",
       "Nisson     1                   1\n",
       "Mecedes    1                   1\n",
       "Name: count, dtype: int64"
      ]
     },
     "execution_count": 4,
     "metadata": {},
     "output_type": "execute_result"
    }
   ],
   "source": [
    "df.value_counts([\"make\", \"fraud_found_p\"])"
   ]
  },
  {
   "cell_type": "code",
   "execution_count": 7,
   "metadata": {},
   "outputs": [
    {
     "data": {
      "text/plain": [
       "month                    object\n",
       "week_of_month             int64\n",
       "day_of_week              object\n",
       "make                     object\n",
       "accident_area            object\n",
       "day_of_week_claimed      object\n",
       "month_claimed            object\n",
       "week_of_month_claimed     int64\n",
       "sex                      object\n",
       "marital_status           object\n",
       "age                       int64\n",
       "fault                    object\n",
       "policy_type              object\n",
       "vehicle_category         object\n",
       "vehicle_price            object\n",
       "fraud_found_p             int64\n",
       "policy_number             int64\n",
       "rep_number                int64\n",
       "deductible                int64\n",
       "driver_rating             int64\n",
       "days_policy_accident     object\n",
       "days_policy_claim        object\n",
       "past_number_of_claims    object\n",
       "age_of_vehicle           object\n",
       "age_of_policy_holder     object\n",
       "police_report_filed      object\n",
       "witness_present          object\n",
       "agent_type               object\n",
       "number_of_suppliments    object\n",
       "address_change_claim     object\n",
       "number_of_cars           object\n",
       "year                      int64\n",
       "base_policy              object\n",
       "dtype: object"
      ]
     },
     "execution_count": 7,
     "metadata": {},
     "output_type": "execute_result"
    }
   ],
   "source": [
    "df.dtypes"
   ]
  },
  {
   "cell_type": "code",
   "execution_count": 6,
   "metadata": {},
   "outputs": [
    {
     "data": {
      "text/plain": [
       "0               none\n",
       "1               none\n",
       "2               none\n",
       "3        more than 5\n",
       "4               none\n",
       "            ...     \n",
       "15415           none\n",
       "15416    more than 5\n",
       "15417         1 to 2\n",
       "15418    more than 5\n",
       "15419         1 to 2\n",
       "Name: number_of_suppliments, Length: 15420, dtype: object"
      ]
     },
     "execution_count": 6,
     "metadata": {},
     "output_type": "execute_result"
    }
   ],
   "source": [
    "df[\"number_of_suppliments\"]"
   ]
  },
  {
   "cell_type": "code",
   "execution_count": 6,
   "metadata": {},
   "outputs": [
    {
     "ename": "ValueError",
     "evalue": "The least populated class in y has only 1 member, which is too few. The minimum number of groups for any class cannot be less than 2.",
     "output_type": "error",
     "traceback": [
      "\u001b[0;31m---------------------------------------------------------------------------\u001b[0m",
      "\u001b[0;31mValueError\u001b[0m                                Traceback (most recent call last)",
      "Cell \u001b[0;32mIn[6], line 15\u001b[0m\n\u001b[1;32m     10\u001b[0m raw_features \u001b[39m=\u001b[39m df\u001b[39m.\u001b[39mdrop(\n\u001b[1;32m     11\u001b[0m     COLUMNS_TO_DROP, axis\u001b[39m=\u001b[39m\u001b[39m1\u001b[39m)\u001b[39m.\u001b[39mloc[\u001b[39m~\u001b[39mdrop_condition]\n\u001b[1;32m     13\u001b[0m \u001b[39m# ML tuning\u001b[39;00m\n\u001b[1;32m     14\u001b[0m \u001b[39m# add make otherwise there are unknown brands in test set, and encoder can't handle\u001b[39;00m\n\u001b[0;32m---> 15\u001b[0m train, test \u001b[39m=\u001b[39m train_test_split(\n\u001b[1;32m     16\u001b[0m     raw_features, test_size\u001b[39m=\u001b[39;49m\u001b[39m0.2\u001b[39;49m, random_state\u001b[39m=\u001b[39;49m\u001b[39m0\u001b[39;49m, stratify\u001b[39m=\u001b[39;49mraw_features[[y, \u001b[39m\"\u001b[39;49m\u001b[39mmake\u001b[39;49m\u001b[39m\"\u001b[39;49m, \u001b[39m\"\u001b[39;49m\u001b[39myear\u001b[39;49m\u001b[39m\"\u001b[39;49m]])\n\u001b[1;32m     18\u001b[0m fit_le \u001b[39m=\u001b[39m LabelEncoder()\u001b[39m.\u001b[39mfit(train[y])\n",
      "File \u001b[0;32m~/.local/share/virtualenvs/End-to-end-project---Customer-churn-PLUo0CZ0/lib/python3.11/site-packages/sklearn/utils/_param_validation.py:211\u001b[0m, in \u001b[0;36mvalidate_params.<locals>.decorator.<locals>.wrapper\u001b[0;34m(*args, **kwargs)\u001b[0m\n\u001b[1;32m    205\u001b[0m \u001b[39mtry\u001b[39;00m:\n\u001b[1;32m    206\u001b[0m     \u001b[39mwith\u001b[39;00m config_context(\n\u001b[1;32m    207\u001b[0m         skip_parameter_validation\u001b[39m=\u001b[39m(\n\u001b[1;32m    208\u001b[0m             prefer_skip_nested_validation \u001b[39mor\u001b[39;00m global_skip_validation\n\u001b[1;32m    209\u001b[0m         )\n\u001b[1;32m    210\u001b[0m     ):\n\u001b[0;32m--> 211\u001b[0m         \u001b[39mreturn\u001b[39;00m func(\u001b[39m*\u001b[39;49margs, \u001b[39m*\u001b[39;49m\u001b[39m*\u001b[39;49mkwargs)\n\u001b[1;32m    212\u001b[0m \u001b[39mexcept\u001b[39;00m InvalidParameterError \u001b[39mas\u001b[39;00m e:\n\u001b[1;32m    213\u001b[0m     \u001b[39m# When the function is just a wrapper around an estimator, we allow\u001b[39;00m\n\u001b[1;32m    214\u001b[0m     \u001b[39m# the function to delegate validation to the estimator, but we replace\u001b[39;00m\n\u001b[1;32m    215\u001b[0m     \u001b[39m# the name of the estimator by the name of the function in the error\u001b[39;00m\n\u001b[1;32m    216\u001b[0m     \u001b[39m# message to avoid confusion.\u001b[39;00m\n\u001b[1;32m    217\u001b[0m     msg \u001b[39m=\u001b[39m re\u001b[39m.\u001b[39msub(\n\u001b[1;32m    218\u001b[0m         \u001b[39mr\u001b[39m\u001b[39m\"\u001b[39m\u001b[39mparameter of \u001b[39m\u001b[39m\\\u001b[39m\u001b[39mw+ must be\u001b[39m\u001b[39m\"\u001b[39m,\n\u001b[1;32m    219\u001b[0m         \u001b[39mf\u001b[39m\u001b[39m\"\u001b[39m\u001b[39mparameter of \u001b[39m\u001b[39m{\u001b[39;00mfunc\u001b[39m.\u001b[39m\u001b[39m__qualname__\u001b[39m\u001b[39m}\u001b[39;00m\u001b[39m must be\u001b[39m\u001b[39m\"\u001b[39m,\n\u001b[1;32m    220\u001b[0m         \u001b[39mstr\u001b[39m(e),\n\u001b[1;32m    221\u001b[0m     )\n",
      "File \u001b[0;32m~/.local/share/virtualenvs/End-to-end-project---Customer-churn-PLUo0CZ0/lib/python3.11/site-packages/sklearn/model_selection/_split.py:2638\u001b[0m, in \u001b[0;36mtrain_test_split\u001b[0;34m(test_size, train_size, random_state, shuffle, stratify, *arrays)\u001b[0m\n\u001b[1;32m   2634\u001b[0m         CVClass \u001b[39m=\u001b[39m ShuffleSplit\n\u001b[1;32m   2636\u001b[0m     cv \u001b[39m=\u001b[39m CVClass(test_size\u001b[39m=\u001b[39mn_test, train_size\u001b[39m=\u001b[39mn_train, random_state\u001b[39m=\u001b[39mrandom_state)\n\u001b[0;32m-> 2638\u001b[0m     train, test \u001b[39m=\u001b[39m \u001b[39mnext\u001b[39;49m(cv\u001b[39m.\u001b[39;49msplit(X\u001b[39m=\u001b[39;49marrays[\u001b[39m0\u001b[39;49m], y\u001b[39m=\u001b[39;49mstratify))\n\u001b[1;32m   2640\u001b[0m \u001b[39mreturn\u001b[39;00m \u001b[39mlist\u001b[39m(\n\u001b[1;32m   2641\u001b[0m     chain\u001b[39m.\u001b[39mfrom_iterable(\n\u001b[1;32m   2642\u001b[0m         (_safe_indexing(a, train), _safe_indexing(a, test)) \u001b[39mfor\u001b[39;00m a \u001b[39min\u001b[39;00m arrays\n\u001b[1;32m   2643\u001b[0m     )\n\u001b[1;32m   2644\u001b[0m )\n",
      "File \u001b[0;32m~/.local/share/virtualenvs/End-to-end-project---Customer-churn-PLUo0CZ0/lib/python3.11/site-packages/sklearn/model_selection/_split.py:1726\u001b[0m, in \u001b[0;36mBaseShuffleSplit.split\u001b[0;34m(self, X, y, groups)\u001b[0m\n\u001b[1;32m   1696\u001b[0m \u001b[39m\u001b[39m\u001b[39m\"\"\"Generate indices to split data into training and test set.\u001b[39;00m\n\u001b[1;32m   1697\u001b[0m \n\u001b[1;32m   1698\u001b[0m \u001b[39mParameters\u001b[39;00m\n\u001b[0;32m   (...)\u001b[0m\n\u001b[1;32m   1723\u001b[0m \u001b[39mto an integer.\u001b[39;00m\n\u001b[1;32m   1724\u001b[0m \u001b[39m\"\"\"\u001b[39;00m\n\u001b[1;32m   1725\u001b[0m X, y, groups \u001b[39m=\u001b[39m indexable(X, y, groups)\n\u001b[0;32m-> 1726\u001b[0m \u001b[39mfor\u001b[39;00m train, test \u001b[39min\u001b[39;00m \u001b[39mself\u001b[39m\u001b[39m.\u001b[39m_iter_indices(X, y, groups):\n\u001b[1;32m   1727\u001b[0m     \u001b[39myield\u001b[39;00m train, test\n",
      "File \u001b[0;32m~/.local/share/virtualenvs/End-to-end-project---Customer-churn-PLUo0CZ0/lib/python3.11/site-packages/sklearn/model_selection/_split.py:2115\u001b[0m, in \u001b[0;36mStratifiedShuffleSplit._iter_indices\u001b[0;34m(self, X, y, groups)\u001b[0m\n\u001b[1;32m   2113\u001b[0m class_counts \u001b[39m=\u001b[39m np\u001b[39m.\u001b[39mbincount(y_indices)\n\u001b[1;32m   2114\u001b[0m \u001b[39mif\u001b[39;00m np\u001b[39m.\u001b[39mmin(class_counts) \u001b[39m<\u001b[39m \u001b[39m2\u001b[39m:\n\u001b[0;32m-> 2115\u001b[0m     \u001b[39mraise\u001b[39;00m \u001b[39mValueError\u001b[39;00m(\n\u001b[1;32m   2116\u001b[0m         \u001b[39m\"\u001b[39m\u001b[39mThe least populated class in y has only 1\u001b[39m\u001b[39m\"\u001b[39m\n\u001b[1;32m   2117\u001b[0m         \u001b[39m\"\u001b[39m\u001b[39m member, which is too few. The minimum\u001b[39m\u001b[39m\"\u001b[39m\n\u001b[1;32m   2118\u001b[0m         \u001b[39m\"\u001b[39m\u001b[39m number of groups for any class cannot\u001b[39m\u001b[39m\"\u001b[39m\n\u001b[1;32m   2119\u001b[0m         \u001b[39m\"\u001b[39m\u001b[39m be less than 2.\u001b[39m\u001b[39m\"\u001b[39m\n\u001b[1;32m   2120\u001b[0m     )\n\u001b[1;32m   2122\u001b[0m \u001b[39mif\u001b[39;00m n_train \u001b[39m<\u001b[39m n_classes:\n\u001b[1;32m   2123\u001b[0m     \u001b[39mraise\u001b[39;00m \u001b[39mValueError\u001b[39;00m(\n\u001b[1;32m   2124\u001b[0m         \u001b[39m\"\u001b[39m\u001b[39mThe train_size = \u001b[39m\u001b[39m%d\u001b[39;00m\u001b[39m should be greater or \u001b[39m\u001b[39m\"\u001b[39m\n\u001b[1;32m   2125\u001b[0m         \u001b[39m\"\u001b[39m\u001b[39mequal to the number of classes = \u001b[39m\u001b[39m%d\u001b[39;00m\u001b[39m\"\u001b[39m \u001b[39m%\u001b[39m (n_train, n_classes)\n\u001b[1;32m   2126\u001b[0m     )\n",
      "\u001b[0;31mValueError\u001b[0m: The least populated class in y has only 1 member, which is too few. The minimum number of groups for any class cannot be less than 2."
     ]
    }
   ],
   "source": [
    "y = \"fraud_found_p\"\n",
    "\n",
    "# some generic cleaning\n",
    "df['number_of_cars'] = df['number_of_cars'].str.split(\"\").str[1].astype(int)\n",
    "df[\"number_of_cars_as_int\"] = df[\"number_of_cars\"].str.split(\"\").str[1].str.replace(\"m\", \"8\").astype(int)\n",
    "COLUMNS_TO_DROP = [\"address_change_claim\", \"number_of_cars\"]\n",
    "assert df[y].isna().any() == False\n",
    "# drop single row with Lexus as encoder can't handle cases seen in only train, while encoding test\n",
    "drop_condition = ((df.make.isin([\"Lexus\", \"Ferrari\"])) | (\n",
    "    df.make.isin([\"BMW\", \"Nisson\", \"Mecedes\"]) & (df[y] == 1)))\n",
    "raw_features = df.drop(\n",
    "    COLUMNS_TO_DROP, axis=1).loc[~drop_condition]\n",
    "\n",
    "# ML tuning\n",
    "# add make otherwise there are unknown brands in test set, and encoder can't handle\n",
    "train, test = train_test_split(\n",
    "    raw_features, test_size=0.2, random_state=0, stratify=raw_features[[y, \"make\", \"year\"]])\n",
    "\n",
    "fit_le = LabelEncoder().fit(train[y])"
   ]
  },
  {
   "cell_type": "code",
   "execution_count": 11,
   "metadata": {},
   "outputs": [
    {
     "data": {
      "text/plain": [
       "make       fraud_found_p\n",
       "Pontiac    0                3624\n",
       "Toyota     0                2935\n",
       "Honda      0                2622\n",
       "Mazda      0                2231\n",
       "Chevrolet  0                1587\n",
       "Ford       0                 417\n",
       "Accura     0                 413\n",
       "VW         0                 275\n",
       "Pontiac    1                 213\n",
       "Toyota     1                 186\n",
       "Honda      1                 179\n",
       "Mazda      1                 123\n",
       "Dodge      0                 107\n",
       "Saab       0                  97\n",
       "Chevrolet  1                  94\n",
       "Mercury    0                  77\n",
       "Accura     1                  59\n",
       "Saturn     0                  52\n",
       "Ford       1                  33\n",
       "Nisson     0                  29\n",
       "BMW        0                  14\n",
       "Saab       1                  11\n",
       "VW         1                   8\n",
       "Mercury    1                   6\n",
       "Jaguar     0                   6\n",
       "Saturn     1                   6\n",
       "Porche     0                   5\n",
       "Mecedes    0                   3\n",
       "Dodge      1                   2\n",
       "Name: count, dtype: int64"
      ]
     },
     "execution_count": 11,
     "metadata": {},
     "output_type": "execute_result"
    }
   ],
   "source": [
    "raw_features.value_counts([\"make\", \"fraud_found_p\"])"
   ]
  },
  {
   "cell_type": "code",
   "execution_count": 12,
   "metadata": {},
   "outputs": [
    {
     "data": {
      "text/plain": [
       "6"
      ]
     },
     "execution_count": 12,
     "metadata": {},
     "output_type": "execute_result"
    }
   ],
   "source": [
    "df.shape[0] - raw_features.shape[0]"
   ]
  },
  {
   "cell_type": "code",
   "execution_count": 13,
   "metadata": {},
   "outputs": [],
   "source": [
    "# def build_column_transformer_for_df(train_x: pd.DataFrame, text_columns:List[str]) -> ColumnTransformer:\n",
    "#     \"\"\"Builds a column transformer for a pandas dataframe.\"\"\"\n",
    "#     # Get the categorical and numerical columns\n",
    "#     categorical_columns = train_x.select_dtypes(\n",
    "#         include='object').columns.to_list()\n",
    "#     numerical_columns = train_x.select_dtypes(\n",
    "#         include='number').columns.to_list()\n",
    "\n",
    "#     num_prep = Pipeline(steps=[\n",
    "#         ('num_imputer', SimpleImputer(strategy='median')),\n",
    "#         ('scaler', StandardScaler())\n",
    "#     ])\n",
    "\n",
    "#     cat_prep = Pipeline(steps=[\n",
    "#         ('cat_imputer', SimpleImputer(strategy='most_frequent')),\n",
    "#         ('encoder', OneHotEncoder(sparse_output=False))\n",
    "#     ])\n",
    "\n",
    "#     transformer = ColumnTransformer([\n",
    "#         ('text', TfidfVectorizer(), text_columns),\n",
    "#         ('num', num_prep, numerical_columns),\n",
    "#         ('cat', cat_prep, categorical_columns)\n",
    "#     ])\n",
    "\n",
    "#     return transformer"
   ]
  },
  {
   "cell_type": "code",
   "execution_count": 14,
   "metadata": {},
   "outputs": [
    {
     "name": "stdout",
     "output_type": "stream",
     "text": [
      "Fitting 5 folds for each of 576 candidates, totalling 2880 fits\n"
     ]
    },
    {
     "name": "stderr",
     "output_type": "stream",
     "text": [
      "/home/maarten/.local/share/virtualenvs/End-to-end-project---Customer-churn-PLUo0CZ0/lib/python3.11/site-packages/sklearn/model_selection/_validation.py:425: FitFailedWarning: \n",
      "1440 fits failed out of a total of 2880.\n",
      "The score on these train-test partitions for these parameters will be set to nan.\n",
      "If these failures are not expected, you can try to debug them by setting error_score='raise'.\n",
      "\n",
      "Below are more details about the failures:\n",
      "--------------------------------------------------------------------------------\n",
      "1440 fits failed with the following error:\n",
      "Traceback (most recent call last):\n",
      "  File \"/home/maarten/.local/share/virtualenvs/End-to-end-project---Customer-churn-PLUo0CZ0/lib/python3.11/site-packages/sklearn/model_selection/_validation.py\", line 732, in _fit_and_score\n",
      "    estimator.fit(X_train, y_train, **fit_params)\n",
      "  File \"/home/maarten/.local/share/virtualenvs/End-to-end-project---Customer-churn-PLUo0CZ0/lib/python3.11/site-packages/imblearn/pipeline.py\", line 293, in fit\n",
      "    Xt, yt = self._fit(X, y, **fit_params_steps)\n",
      "             ^^^^^^^^^^^^^^^^^^^^^^^^^^^^^^^^^^^\n",
      "  File \"/home/maarten/.local/share/virtualenvs/End-to-end-project---Customer-churn-PLUo0CZ0/lib/python3.11/site-packages/imblearn/pipeline.py\", line 250, in _fit\n",
      "    X, y, fitted_transformer = fit_resample_one_cached(\n",
      "                               ^^^^^^^^^^^^^^^^^^^^^^^^\n",
      "  File \"/home/maarten/.local/share/virtualenvs/End-to-end-project---Customer-churn-PLUo0CZ0/lib/python3.11/site-packages/joblib/memory.py\", line 353, in __call__\n",
      "    return self.func(*args, **kwargs)\n",
      "           ^^^^^^^^^^^^^^^^^^^^^^^^^^\n",
      "  File \"/home/maarten/.local/share/virtualenvs/End-to-end-project---Customer-churn-PLUo0CZ0/lib/python3.11/site-packages/imblearn/pipeline.py\", line 422, in _fit_resample_one\n",
      "    X_res, y_res = sampler.fit_resample(X, y, **fit_params)\n",
      "                   ^^^^^^^^^^^^^^^^^^^^^^^^^^^^^^^^^^^^^^^^\n",
      "  File \"/home/maarten/.local/share/virtualenvs/End-to-end-project---Customer-churn-PLUo0CZ0/lib/python3.11/site-packages/imblearn/base.py\", line 208, in fit_resample\n",
      "    return super().fit_resample(X, y)\n",
      "           ^^^^^^^^^^^^^^^^^^^^^^^^^^\n",
      "  File \"/home/maarten/.local/share/virtualenvs/End-to-end-project---Customer-churn-PLUo0CZ0/lib/python3.11/site-packages/imblearn/base.py\", line 108, in fit_resample\n",
      "    self.sampling_strategy_ = check_sampling_strategy(\n",
      "                              ^^^^^^^^^^^^^^^^^^^^^^^^\n",
      "  File \"/home/maarten/.local/share/virtualenvs/End-to-end-project---Customer-churn-PLUo0CZ0/lib/python3.11/site-packages/imblearn/utils/_validation.py\", line 550, in check_sampling_strategy\n",
      "    _sampling_strategy_float(sampling_strategy, y, sampling_type).items()\n",
      "    ^^^^^^^^^^^^^^^^^^^^^^^^^^^^^^^^^^^^^^^^^^^^^^^^^^^^^^^^^^^^^\n",
      "  File \"/home/maarten/.local/share/virtualenvs/End-to-end-project---Customer-churn-PLUo0CZ0/lib/python3.11/site-packages/imblearn/utils/_validation.py\", line 389, in _sampling_strategy_float\n",
      "    raise ValueError(\n",
      "ValueError: The specified ratio required to remove samples from the minority class while trying to generate new samples. Please increase the ratio.\n",
      "\n",
      "  warnings.warn(some_fits_failed_message, FitFailedWarning)\n",
      "/home/maarten/.local/share/virtualenvs/End-to-end-project---Customer-churn-PLUo0CZ0/lib/python3.11/site-packages/sklearn/model_selection/_search.py:976: UserWarning: One or more of the test scores are non-finite: [0.60562397        nan        nan        nan        nan        nan\n",
      " 0.78501583        nan        nan        nan        nan        nan\n",
      " 0.78162679        nan        nan        nan        nan        nan\n",
      " 0.78062046        nan        nan        nan        nan        nan\n",
      " 0.61396493 0.61521992        nan        nan        nan        nan\n",
      " 0.78154    0.7814315         nan        nan        nan        nan\n",
      " 0.78439479 0.78471499        nan        nan        nan        nan\n",
      " 0.78289937 0.78406697        nan        nan        nan        nan\n",
      " 0.61565095 0.62121217 0.62034893        nan        nan        nan\n",
      " 0.78440887 0.78214638 0.78134295        nan        nan        nan\n",
      " 0.78383826 0.78074478 0.78178689        nan        nan        nan\n",
      " 0.78194053 0.7838494  0.78025393        nan        nan        nan\n",
      " 0.61506451 0.59537884 0.57974197        nan        nan        nan\n",
      " 0.78107729 0.78000411 0.77589491        nan        nan        nan\n",
      " 0.78238858 0.78258679 0.78176871        nan        nan        nan\n",
      " 0.78125264 0.78311049 0.7853073         nan        nan        nan\n",
      " 0.5650997  0.55899073 0.5458867  0.59554715        nan        nan\n",
      " 0.78123035 0.78069435 0.77718684 0.77490734        nan        nan\n",
      " 0.78269353 0.78400715 0.78196575 0.77782489        nan        nan\n",
      " 0.7838453  0.78374384 0.78460826 0.78606439        nan        nan\n",
      " 0.53828876 0.53937896 0.53651712 0.55182911 0.53975135        nan\n",
      " 0.76185081 0.75772695 0.76388166 0.75625968 0.75468508        nan\n",
      " 0.78246012 0.78571487 0.7822707  0.78157811 0.77734635        nan\n",
      " 0.78276449 0.78285538 0.78286359 0.78505513 0.77970209        nan\n",
      " 0.60807354        nan        nan        nan        nan        nan\n",
      " 0.78432618        nan        nan        nan        nan        nan\n",
      " 0.78354152        nan        nan        nan        nan        nan\n",
      " 0.78828231        nan        nan        nan        nan        nan\n",
      " 0.61502756 0.60893209        nan        nan        nan        nan\n",
      " 0.78025158 0.78068966        nan        nan        nan        nan\n",
      " 0.78093831 0.78466104        nan        nan        nan        nan\n",
      " 0.78413617 0.78593361        nan        nan        nan        nan\n",
      " 0.61799085 0.62356498 0.613114          nan        nan        nan\n",
      " 0.78066151 0.78101396 0.77883357        nan        nan        nan\n",
      " 0.78014368 0.77804774 0.78502522        nan        nan        nan\n",
      " 0.78503753 0.78317558 0.79213992        nan        nan        nan\n",
      " 0.61366526 0.5980149  0.62514251        nan        nan        nan\n",
      " 0.77882536 0.78117464 0.78051724        nan        nan        nan\n",
      " 0.7812415  0.78275569 0.78103096        nan        nan        nan\n",
      " 0.78391684 0.77732641 0.78556943        nan        nan        nan\n",
      " 0.55340019 0.56573657 0.55834213 0.57920537        nan        nan\n",
      " 0.77922003 0.7769851  0.77777739 0.77166784        nan        nan\n",
      " 0.78338377 0.78286301 0.78381187 0.78684964        nan        nan\n",
      " 0.78366057 0.77905407 0.78533369 0.78152416        nan        nan\n",
      " 0.53580988 0.52877434 0.531289   0.5479023  0.55012667        nan\n",
      " 0.77039526 0.77358198 0.76036477 0.74271874 0.75173587        nan\n",
      " 0.7859342  0.78185433 0.77696047 0.77962468 0.77910509        nan\n",
      " 0.78359137 0.77964051 0.77746833 0.7799783  0.78061166        nan\n",
      " 0.61128489        nan        nan        nan        nan        nan\n",
      " 0.78125029        nan        nan        nan        nan        nan\n",
      " 0.78168426        nan        nan        nan        nan        nan\n",
      " 0.78443819        nan        nan        nan        nan        nan\n",
      " 0.6175651  0.61781257        nan        nan        nan        nan\n",
      " 0.780268   0.78269059        nan        nan        nan        nan\n",
      " 0.78336324 0.78096411        nan        nan        nan        nan\n",
      " 0.78506334 0.78344417        nan        nan        nan        nan\n",
      " 0.62345473 0.62601454 0.61655114        nan        nan        nan\n",
      " 0.78242904 0.77904469 0.78298205        nan        nan        nan\n",
      " 0.78067558 0.78281551 0.78475428        nan        nan        nan\n",
      " 0.78322777 0.78557119 0.78243901        nan        nan        nan\n",
      " 0.6213623  0.62171006 0.58962761        nan        nan        nan\n",
      " 0.78052721 0.78319435 0.77291696        nan        nan        nan\n",
      " 0.78600516 0.7818121  0.78107553        nan        nan        nan\n",
      " 0.78118872 0.78458832 0.78428454        nan        nan        nan\n",
      " 0.56593127 0.5588494  0.55227129 0.56841133        nan        nan\n",
      " 0.78225428 0.77514309 0.77960005 0.76549613        nan        nan\n",
      " 0.78471909 0.78552076 0.77922472 0.77729592        nan        nan\n",
      " 0.78320842 0.78117347 0.78192998 0.78404234        nan        nan\n",
      " 0.53651361 0.54300669 0.53965224 0.53742376 0.54392388        nan\n",
      " 0.7740529  0.76845062 0.76067558 0.75261846 0.72759148        nan\n",
      " 0.78314274 0.78050727 0.78414731 0.77985456 0.77706603        nan\n",
      " 0.78291696 0.77934319 0.77865294 0.78466221 0.78185198        nan\n",
      " 0.60885703        nan        nan        nan        nan        nan\n",
      " 0.78127141        nan        nan        nan        nan        nan\n",
      " 0.78273047        nan        nan        nan        nan        nan\n",
      " 0.78653765        nan        nan        nan        nan        nan\n",
      " 0.61021464 0.61583861        nan        nan        nan        nan\n",
      " 0.78231234 0.7820373         nan        nan        nan        nan\n",
      " 0.78126671 0.78309465        nan        nan        nan        nan\n",
      " 0.78469916 0.78708363        nan        nan        nan        nan\n",
      " 0.61484166 0.61796739 0.61619165        nan        nan        nan\n",
      " 0.78423587 0.78095707 0.78028384        nan        nan        nan\n",
      " 0.78022519 0.78621863 0.78452205        nan        nan        nan\n",
      " 0.78529615 0.78533251 0.78582688        nan        nan        nan\n",
      " 0.60291989 0.59078818 0.59469505        nan        nan        nan\n",
      " 0.78154938 0.78169364 0.78205255        nan        nan        nan\n",
      " 0.78204961 0.78164555 0.78471499        nan        nan        nan\n",
      " 0.78624267 0.78268356 0.78623622        nan        nan        nan\n",
      " 0.55507331 0.55106556 0.56925111 0.54657284        nan        nan\n",
      " 0.77952616 0.77720502 0.78394382 0.77606556        nan        nan\n",
      " 0.78192646 0.7794118  0.78413617 0.78247596        nan        nan\n",
      " 0.78281844 0.78452616 0.78354387 0.77881304        nan        nan\n",
      " 0.52999824 0.5321974  0.53614239 0.53860368 0.57013195        nan\n",
      " 0.76892036 0.77646434 0.75695637 0.76212526 0.74112773        nan\n",
      " 0.78649308 0.77889984 0.77996305 0.7795027  0.78136934        nan\n",
      " 0.78238037 0.78300493 0.78072074 0.77893678 0.78730941        nan]\n",
      "  warnings.warn(\n"
     ]
    },
    {
     "name": "stdout",
     "output_type": "stream",
     "text": [
      "Best score: 0.7921399249354913\n",
      "Best parameters: {'logistic__C': 10, 'logistic__penalty': 'l2', 'over__sampling_strategy': 0.4, 'pca__n_components': 30, 'under__sampling_strategy': 0.3}\n"
     ]
    },
    {
     "data": {
      "text/html": [
       "<style>#sk-container-id-1 {color: black;}#sk-container-id-1 pre{padding: 0;}#sk-container-id-1 div.sk-toggleable {background-color: white;}#sk-container-id-1 label.sk-toggleable__label {cursor: pointer;display: block;width: 100%;margin-bottom: 0;padding: 0.3em;box-sizing: border-box;text-align: center;}#sk-container-id-1 label.sk-toggleable__label-arrow:before {content: \"▸\";float: left;margin-right: 0.25em;color: #696969;}#sk-container-id-1 label.sk-toggleable__label-arrow:hover:before {color: black;}#sk-container-id-1 div.sk-estimator:hover label.sk-toggleable__label-arrow:before {color: black;}#sk-container-id-1 div.sk-toggleable__content {max-height: 0;max-width: 0;overflow: hidden;text-align: left;background-color: #f0f8ff;}#sk-container-id-1 div.sk-toggleable__content pre {margin: 0.2em;color: black;border-radius: 0.25em;background-color: #f0f8ff;}#sk-container-id-1 input.sk-toggleable__control:checked~div.sk-toggleable__content {max-height: 200px;max-width: 100%;overflow: auto;}#sk-container-id-1 input.sk-toggleable__control:checked~label.sk-toggleable__label-arrow:before {content: \"▾\";}#sk-container-id-1 div.sk-estimator input.sk-toggleable__control:checked~label.sk-toggleable__label {background-color: #d4ebff;}#sk-container-id-1 div.sk-label input.sk-toggleable__control:checked~label.sk-toggleable__label {background-color: #d4ebff;}#sk-container-id-1 input.sk-hidden--visually {border: 0;clip: rect(1px 1px 1px 1px);clip: rect(1px, 1px, 1px, 1px);height: 1px;margin: -1px;overflow: hidden;padding: 0;position: absolute;width: 1px;}#sk-container-id-1 div.sk-estimator {font-family: monospace;background-color: #f0f8ff;border: 1px dotted black;border-radius: 0.25em;box-sizing: border-box;margin-bottom: 0.5em;}#sk-container-id-1 div.sk-estimator:hover {background-color: #d4ebff;}#sk-container-id-1 div.sk-parallel-item::after {content: \"\";width: 100%;border-bottom: 1px solid gray;flex-grow: 1;}#sk-container-id-1 div.sk-label:hover label.sk-toggleable__label {background-color: #d4ebff;}#sk-container-id-1 div.sk-serial::before {content: \"\";position: absolute;border-left: 1px solid gray;box-sizing: border-box;top: 0;bottom: 0;left: 50%;z-index: 0;}#sk-container-id-1 div.sk-serial {display: flex;flex-direction: column;align-items: center;background-color: white;padding-right: 0.2em;padding-left: 0.2em;position: relative;}#sk-container-id-1 div.sk-item {position: relative;z-index: 1;}#sk-container-id-1 div.sk-parallel {display: flex;align-items: stretch;justify-content: center;background-color: white;position: relative;}#sk-container-id-1 div.sk-item::before, #sk-container-id-1 div.sk-parallel-item::before {content: \"\";position: absolute;border-left: 1px solid gray;box-sizing: border-box;top: 0;bottom: 0;left: 50%;z-index: -1;}#sk-container-id-1 div.sk-parallel-item {display: flex;flex-direction: column;z-index: 1;position: relative;background-color: white;}#sk-container-id-1 div.sk-parallel-item:first-child::after {align-self: flex-end;width: 50%;}#sk-container-id-1 div.sk-parallel-item:last-child::after {align-self: flex-start;width: 50%;}#sk-container-id-1 div.sk-parallel-item:only-child::after {width: 0;}#sk-container-id-1 div.sk-dashed-wrapped {border: 1px dashed gray;margin: 0 0.4em 0.5em 0.4em;box-sizing: border-box;padding-bottom: 0.4em;background-color: white;}#sk-container-id-1 div.sk-label label {font-family: monospace;font-weight: bold;display: inline-block;line-height: 1.2em;}#sk-container-id-1 div.sk-label-container {text-align: center;}#sk-container-id-1 div.sk-container {/* jupyter's `normalize.less` sets `[hidden] { display: none; }` but bootstrap.min.css set `[hidden] { display: none !important; }` so we also need the `!important` here to be able to override the default hidden behavior on the sphinx rendered scikit-learn.org. See: https://github.com/scikit-learn/scikit-learn/issues/21755 */display: inline-block !important;position: relative;}#sk-container-id-1 div.sk-text-repr-fallback {display: none;}</style><div id=\"sk-container-id-1\" class=\"sk-top-container\"><div class=\"sk-text-repr-fallback\"><pre>Pipeline(steps=[(&#x27;preprocessor&#x27;,\n",
       "                 ColumnTransformer(transformers=[(&#x27;num&#x27;,\n",
       "                                                  Pipeline(steps=[(&#x27;num_imputer&#x27;,\n",
       "                                                                   SimpleImputer(strategy=&#x27;median&#x27;)),\n",
       "                                                                  (&#x27;scaler&#x27;,\n",
       "                                                                   StandardScaler())]),\n",
       "                                                  [&#x27;week_of_month&#x27;,\n",
       "                                                   &#x27;week_of_month_claimed&#x27;,\n",
       "                                                   &#x27;age&#x27;, &#x27;policy_number&#x27;,\n",
       "                                                   &#x27;rep_number&#x27;, &#x27;deductible&#x27;,\n",
       "                                                   &#x27;driver_rating&#x27;, &#x27;year&#x27;]),\n",
       "                                                 (&#x27;cat&#x27;,\n",
       "                                                  Pipeline(steps=[(&#x27;cat_imputer&#x27;,\n",
       "                                                                   SimpleImputer(strategy=&#x27;most_fre...\n",
       "                                                   &#x27;days_policy_claim&#x27;,\n",
       "                                                   &#x27;past_number_of_claims&#x27;,\n",
       "                                                   &#x27;age_of_vehicle&#x27;,\n",
       "                                                   &#x27;age_of_policy_holder&#x27;,\n",
       "                                                   &#x27;police_report_filed&#x27;,\n",
       "                                                   &#x27;witness_present&#x27;,\n",
       "                                                   &#x27;agent_type&#x27;,\n",
       "                                                   &#x27;number_of_suppliments&#x27;,\n",
       "                                                   &#x27;number_of_cars&#x27;,\n",
       "                                                   &#x27;base_policy&#x27;])])),\n",
       "                (&#x27;under&#x27;, RandomUnderSampler(sampling_strategy=0.3)),\n",
       "                (&#x27;over&#x27;, SMOTE(sampling_strategy=0.4)),\n",
       "                (&#x27;pca&#x27;, PCA(n_components=30)),\n",
       "                (&#x27;logistic&#x27;, LogisticRegression(C=10))])</pre><b>In a Jupyter environment, please rerun this cell to show the HTML representation or trust the notebook. <br />On GitHub, the HTML representation is unable to render, please try loading this page with nbviewer.org.</b></div><div class=\"sk-container\" hidden><div class=\"sk-item sk-dashed-wrapped\"><div class=\"sk-label-container\"><div class=\"sk-label sk-toggleable\"><input class=\"sk-toggleable__control sk-hidden--visually\" id=\"sk-estimator-id-1\" type=\"checkbox\" ><label for=\"sk-estimator-id-1\" class=\"sk-toggleable__label sk-toggleable__label-arrow\">Pipeline</label><div class=\"sk-toggleable__content\"><pre>Pipeline(steps=[(&#x27;preprocessor&#x27;,\n",
       "                 ColumnTransformer(transformers=[(&#x27;num&#x27;,\n",
       "                                                  Pipeline(steps=[(&#x27;num_imputer&#x27;,\n",
       "                                                                   SimpleImputer(strategy=&#x27;median&#x27;)),\n",
       "                                                                  (&#x27;scaler&#x27;,\n",
       "                                                                   StandardScaler())]),\n",
       "                                                  [&#x27;week_of_month&#x27;,\n",
       "                                                   &#x27;week_of_month_claimed&#x27;,\n",
       "                                                   &#x27;age&#x27;, &#x27;policy_number&#x27;,\n",
       "                                                   &#x27;rep_number&#x27;, &#x27;deductible&#x27;,\n",
       "                                                   &#x27;driver_rating&#x27;, &#x27;year&#x27;]),\n",
       "                                                 (&#x27;cat&#x27;,\n",
       "                                                  Pipeline(steps=[(&#x27;cat_imputer&#x27;,\n",
       "                                                                   SimpleImputer(strategy=&#x27;most_fre...\n",
       "                                                   &#x27;days_policy_claim&#x27;,\n",
       "                                                   &#x27;past_number_of_claims&#x27;,\n",
       "                                                   &#x27;age_of_vehicle&#x27;,\n",
       "                                                   &#x27;age_of_policy_holder&#x27;,\n",
       "                                                   &#x27;police_report_filed&#x27;,\n",
       "                                                   &#x27;witness_present&#x27;,\n",
       "                                                   &#x27;agent_type&#x27;,\n",
       "                                                   &#x27;number_of_suppliments&#x27;,\n",
       "                                                   &#x27;number_of_cars&#x27;,\n",
       "                                                   &#x27;base_policy&#x27;])])),\n",
       "                (&#x27;under&#x27;, RandomUnderSampler(sampling_strategy=0.3)),\n",
       "                (&#x27;over&#x27;, SMOTE(sampling_strategy=0.4)),\n",
       "                (&#x27;pca&#x27;, PCA(n_components=30)),\n",
       "                (&#x27;logistic&#x27;, LogisticRegression(C=10))])</pre></div></div></div><div class=\"sk-serial\"><div class=\"sk-item sk-dashed-wrapped\"><div class=\"sk-label-container\"><div class=\"sk-label sk-toggleable\"><input class=\"sk-toggleable__control sk-hidden--visually\" id=\"sk-estimator-id-2\" type=\"checkbox\" ><label for=\"sk-estimator-id-2\" class=\"sk-toggleable__label sk-toggleable__label-arrow\">preprocessor: ColumnTransformer</label><div class=\"sk-toggleable__content\"><pre>ColumnTransformer(transformers=[(&#x27;num&#x27;,\n",
       "                                 Pipeline(steps=[(&#x27;num_imputer&#x27;,\n",
       "                                                  SimpleImputer(strategy=&#x27;median&#x27;)),\n",
       "                                                 (&#x27;scaler&#x27;, StandardScaler())]),\n",
       "                                 [&#x27;week_of_month&#x27;, &#x27;week_of_month_claimed&#x27;,\n",
       "                                  &#x27;age&#x27;, &#x27;policy_number&#x27;, &#x27;rep_number&#x27;,\n",
       "                                  &#x27;deductible&#x27;, &#x27;driver_rating&#x27;, &#x27;year&#x27;]),\n",
       "                                (&#x27;cat&#x27;,\n",
       "                                 Pipeline(steps=[(&#x27;cat_imputer&#x27;,\n",
       "                                                  SimpleImputer(strategy=&#x27;most_frequent&#x27;)),\n",
       "                                                 (&#x27;encoder&#x27;,\n",
       "                                                  OneHotEncode...\n",
       "                                  &#x27;accident_area&#x27;, &#x27;day_of_week_claimed&#x27;,\n",
       "                                  &#x27;month_claimed&#x27;, &#x27;sex&#x27;, &#x27;marital_status&#x27;,\n",
       "                                  &#x27;fault&#x27;, &#x27;policy_type&#x27;, &#x27;vehicle_category&#x27;,\n",
       "                                  &#x27;vehicle_price&#x27;, &#x27;days_policy_accident&#x27;,\n",
       "                                  &#x27;days_policy_claim&#x27;, &#x27;past_number_of_claims&#x27;,\n",
       "                                  &#x27;age_of_vehicle&#x27;, &#x27;age_of_policy_holder&#x27;,\n",
       "                                  &#x27;police_report_filed&#x27;, &#x27;witness_present&#x27;,\n",
       "                                  &#x27;agent_type&#x27;, &#x27;number_of_suppliments&#x27;,\n",
       "                                  &#x27;number_of_cars&#x27;, &#x27;base_policy&#x27;])])</pre></div></div></div><div class=\"sk-parallel\"><div class=\"sk-parallel-item\"><div class=\"sk-item\"><div class=\"sk-label-container\"><div class=\"sk-label sk-toggleable\"><input class=\"sk-toggleable__control sk-hidden--visually\" id=\"sk-estimator-id-3\" type=\"checkbox\" ><label for=\"sk-estimator-id-3\" class=\"sk-toggleable__label sk-toggleable__label-arrow\">num</label><div class=\"sk-toggleable__content\"><pre>[&#x27;week_of_month&#x27;, &#x27;week_of_month_claimed&#x27;, &#x27;age&#x27;, &#x27;policy_number&#x27;, &#x27;rep_number&#x27;, &#x27;deductible&#x27;, &#x27;driver_rating&#x27;, &#x27;year&#x27;]</pre></div></div></div><div class=\"sk-serial\"><div class=\"sk-item\"><div class=\"sk-serial\"><div class=\"sk-item\"><div class=\"sk-estimator sk-toggleable\"><input class=\"sk-toggleable__control sk-hidden--visually\" id=\"sk-estimator-id-4\" type=\"checkbox\" ><label for=\"sk-estimator-id-4\" class=\"sk-toggleable__label sk-toggleable__label-arrow\">SimpleImputer</label><div class=\"sk-toggleable__content\"><pre>SimpleImputer(strategy=&#x27;median&#x27;)</pre></div></div></div><div class=\"sk-item\"><div class=\"sk-estimator sk-toggleable\"><input class=\"sk-toggleable__control sk-hidden--visually\" id=\"sk-estimator-id-5\" type=\"checkbox\" ><label for=\"sk-estimator-id-5\" class=\"sk-toggleable__label sk-toggleable__label-arrow\">StandardScaler</label><div class=\"sk-toggleable__content\"><pre>StandardScaler()</pre></div></div></div></div></div></div></div></div><div class=\"sk-parallel-item\"><div class=\"sk-item\"><div class=\"sk-label-container\"><div class=\"sk-label sk-toggleable\"><input class=\"sk-toggleable__control sk-hidden--visually\" id=\"sk-estimator-id-6\" type=\"checkbox\" ><label for=\"sk-estimator-id-6\" class=\"sk-toggleable__label sk-toggleable__label-arrow\">cat</label><div class=\"sk-toggleable__content\"><pre>[&#x27;month&#x27;, &#x27;day_of_week&#x27;, &#x27;make&#x27;, &#x27;accident_area&#x27;, &#x27;day_of_week_claimed&#x27;, &#x27;month_claimed&#x27;, &#x27;sex&#x27;, &#x27;marital_status&#x27;, &#x27;fault&#x27;, &#x27;policy_type&#x27;, &#x27;vehicle_category&#x27;, &#x27;vehicle_price&#x27;, &#x27;days_policy_accident&#x27;, &#x27;days_policy_claim&#x27;, &#x27;past_number_of_claims&#x27;, &#x27;age_of_vehicle&#x27;, &#x27;age_of_policy_holder&#x27;, &#x27;police_report_filed&#x27;, &#x27;witness_present&#x27;, &#x27;agent_type&#x27;, &#x27;number_of_suppliments&#x27;, &#x27;number_of_cars&#x27;, &#x27;base_policy&#x27;]</pre></div></div></div><div class=\"sk-serial\"><div class=\"sk-item\"><div class=\"sk-serial\"><div class=\"sk-item\"><div class=\"sk-estimator sk-toggleable\"><input class=\"sk-toggleable__control sk-hidden--visually\" id=\"sk-estimator-id-7\" type=\"checkbox\" ><label for=\"sk-estimator-id-7\" class=\"sk-toggleable__label sk-toggleable__label-arrow\">SimpleImputer</label><div class=\"sk-toggleable__content\"><pre>SimpleImputer(strategy=&#x27;most_frequent&#x27;)</pre></div></div></div><div class=\"sk-item\"><div class=\"sk-estimator sk-toggleable\"><input class=\"sk-toggleable__control sk-hidden--visually\" id=\"sk-estimator-id-8\" type=\"checkbox\" ><label for=\"sk-estimator-id-8\" class=\"sk-toggleable__label sk-toggleable__label-arrow\">OneHotEncoder</label><div class=\"sk-toggleable__content\"><pre>OneHotEncoder(sparse_output=False)</pre></div></div></div></div></div></div></div></div></div></div><div class=\"sk-item\"><div class=\"sk-estimator sk-toggleable\"><input class=\"sk-toggleable__control sk-hidden--visually\" id=\"sk-estimator-id-9\" type=\"checkbox\" ><label for=\"sk-estimator-id-9\" class=\"sk-toggleable__label sk-toggleable__label-arrow\">RandomUnderSampler</label><div class=\"sk-toggleable__content\"><pre>RandomUnderSampler(sampling_strategy=0.3)</pre></div></div></div><div class=\"sk-item\"><div class=\"sk-estimator sk-toggleable\"><input class=\"sk-toggleable__control sk-hidden--visually\" id=\"sk-estimator-id-10\" type=\"checkbox\" ><label for=\"sk-estimator-id-10\" class=\"sk-toggleable__label sk-toggleable__label-arrow\">SMOTE</label><div class=\"sk-toggleable__content\"><pre>SMOTE(sampling_strategy=0.4)</pre></div></div></div><div class=\"sk-item\"><div class=\"sk-estimator sk-toggleable\"><input class=\"sk-toggleable__control sk-hidden--visually\" id=\"sk-estimator-id-11\" type=\"checkbox\" ><label for=\"sk-estimator-id-11\" class=\"sk-toggleable__label sk-toggleable__label-arrow\">PCA</label><div class=\"sk-toggleable__content\"><pre>PCA(n_components=30)</pre></div></div></div><div class=\"sk-item\"><div class=\"sk-estimator sk-toggleable\"><input class=\"sk-toggleable__control sk-hidden--visually\" id=\"sk-estimator-id-12\" type=\"checkbox\" ><label for=\"sk-estimator-id-12\" class=\"sk-toggleable__label sk-toggleable__label-arrow\">LogisticRegression</label><div class=\"sk-toggleable__content\"><pre>LogisticRegression(C=10)</pre></div></div></div></div></div></div></div>"
      ],
      "text/plain": [
       "Pipeline(steps=[('preprocessor',\n",
       "                 ColumnTransformer(transformers=[('num',\n",
       "                                                  Pipeline(steps=[('num_imputer',\n",
       "                                                                   SimpleImputer(strategy='median')),\n",
       "                                                                  ('scaler',\n",
       "                                                                   StandardScaler())]),\n",
       "                                                  ['week_of_month',\n",
       "                                                   'week_of_month_claimed',\n",
       "                                                   'age', 'policy_number',\n",
       "                                                   'rep_number', 'deductible',\n",
       "                                                   'driver_rating', 'year']),\n",
       "                                                 ('cat',\n",
       "                                                  Pipeline(steps=[('cat_imputer',\n",
       "                                                                   SimpleImputer(strategy='most_fre...\n",
       "                                                   'days_policy_claim',\n",
       "                                                   'past_number_of_claims',\n",
       "                                                   'age_of_vehicle',\n",
       "                                                   'age_of_policy_holder',\n",
       "                                                   'police_report_filed',\n",
       "                                                   'witness_present',\n",
       "                                                   'agent_type',\n",
       "                                                   'number_of_suppliments',\n",
       "                                                   'number_of_cars',\n",
       "                                                   'base_policy'])])),\n",
       "                ('under', RandomUnderSampler(sampling_strategy=0.3)),\n",
       "                ('over', SMOTE(sampling_strategy=0.4)),\n",
       "                ('pca', PCA(n_components=30)),\n",
       "                ('logistic', LogisticRegression(C=10))])"
      ]
     },
     "execution_count": 14,
     "metadata": {},
     "output_type": "execute_result"
    }
   ],
   "source": [
    "param_grid = {\n",
    "    'logistic__penalty': ['l2'],\n",
    "    'logistic__C': [1, 10, 100, 1000],\n",
    "    'pca__n_components': list(range(6, 32, 8)),\n",
    "    'under__sampling_strategy': [0.1, 0.2, 0.3, 0.5, 0.7, 1],\n",
    "    'over__sampling_strategy': [0.2, 0.3, 0.4, 0.5, 0.7, 1]\n",
    "}\n",
    "\n",
    "model = LogisticRegression()\n",
    "\n",
    "MODEL_NAME = 'logistic'\n",
    "\n",
    "# text_columns = [\"address_change_claim\"]\n",
    "\n",
    "# steps = build_column_transformer_for_df(\n",
    "#     train_x=train.drop(y, axis=1))._transformers\n",
    "# steps.insert(0, ('text', TfidfVectorizer(), [text_column]))\n",
    "# preprocessor = ColumnTransformer(steps)\n",
    "\n",
    "# preprocessor = build_column_transformer_for_df(train.drop(y, axis=1), text_columns)\n",
    "# pipeline = build_sklearn_pipeline(\n",
    "#     train, y_col_name=y, model_name=MODEL_NAME, model=model, transformer=preprocessor)\n",
    "grid = sklearn_gridsearch_using_pipeline(train, y_col_name=y, model_name=MODEL_NAME,\n",
    "                                  model=model, fit_le=fit_le, param_grid=param_grid, n_folds=5) #, pipeline=pipeline)\n",
    "best_pipeline_log_reg = grid.best_estimator_\n",
    "best_pipeline_log_reg"
   ]
  },
  {
   "cell_type": "code",
   "execution_count": 15,
   "metadata": {},
   "outputs": [],
   "source": [
    "write_pipeline(best_pipeline_log_reg, MODEL_NAME, DATASET_NAME)"
   ]
  },
  {
   "cell_type": "code",
   "execution_count": 8,
   "metadata": {},
   "outputs": [],
   "source": [
    "best_pipeline_log_reg = load_pipeline(model_name=MODEL_NAME, dataset_name=DATASET_NAME)"
   ]
  },
  {
   "cell_type": "code",
   "execution_count": 43,
   "metadata": {},
   "outputs": [
    {
     "data": {
      "text/html": [
       "<div>\n",
       "<style scoped>\n",
       "    .dataframe tbody tr th:only-of-type {\n",
       "        vertical-align: middle;\n",
       "    }\n",
       "\n",
       "    .dataframe tbody tr th {\n",
       "        vertical-align: top;\n",
       "    }\n",
       "\n",
       "    .dataframe thead th {\n",
       "        text-align: right;\n",
       "    }\n",
       "</style>\n",
       "<table border=\"1\" class=\"dataframe\">\n",
       "  <thead>\n",
       "    <tr style=\"text-align: right;\">\n",
       "      <th></th>\n",
       "      <th>month</th>\n",
       "      <th>week_of_month</th>\n",
       "      <th>day_of_week</th>\n",
       "      <th>make</th>\n",
       "      <th>accident_area</th>\n",
       "      <th>day_of_week_claimed</th>\n",
       "      <th>month_claimed</th>\n",
       "      <th>week_of_month_claimed</th>\n",
       "      <th>sex</th>\n",
       "      <th>marital_status</th>\n",
       "      <th>...</th>\n",
       "      <th>past_number_of_claims</th>\n",
       "      <th>age_of_vehicle</th>\n",
       "      <th>age_of_policy_holder</th>\n",
       "      <th>police_report_filed</th>\n",
       "      <th>witness_present</th>\n",
       "      <th>agent_type</th>\n",
       "      <th>number_of_suppliments</th>\n",
       "      <th>number_of_cars</th>\n",
       "      <th>year</th>\n",
       "      <th>base_policy</th>\n",
       "    </tr>\n",
       "  </thead>\n",
       "  <tbody>\n",
       "    <tr>\n",
       "      <th>1516</th>\n",
       "      <td>Jul</td>\n",
       "      <td>2</td>\n",
       "      <td>Monday</td>\n",
       "      <td>Honda</td>\n",
       "      <td>Rural</td>\n",
       "      <td>0</td>\n",
       "      <td>0</td>\n",
       "      <td>1</td>\n",
       "      <td>Male</td>\n",
       "      <td>Single</td>\n",
       "      <td>...</td>\n",
       "      <td>none</td>\n",
       "      <td>new</td>\n",
       "      <td>16 to 17</td>\n",
       "      <td>No</td>\n",
       "      <td>No</td>\n",
       "      <td>External</td>\n",
       "      <td>none</td>\n",
       "      <td>1 vehicle</td>\n",
       "      <td>1994</td>\n",
       "      <td>All Perils</td>\n",
       "    </tr>\n",
       "  </tbody>\n",
       "</table>\n",
       "<p>1 rows × 31 columns</p>\n",
       "</div>"
      ],
      "text/plain": [
       "     month  week_of_month day_of_week   make accident_area  \\\n",
       "1516   Jul              2      Monday  Honda         Rural   \n",
       "\n",
       "     day_of_week_claimed month_claimed  week_of_month_claimed   sex  \\\n",
       "1516                   0             0                      1  Male   \n",
       "\n",
       "     marital_status  ...  past_number_of_claims age_of_vehicle  \\\n",
       "1516         Single  ...                   none            new   \n",
       "\n",
       "     age_of_policy_holder police_report_filed witness_present  agent_type  \\\n",
       "1516             16 to 17                  No              No    External   \n",
       "\n",
       "      number_of_suppliments  number_of_cars  year base_policy  \n",
       "1516                   none       1 vehicle  1994  All Perils  \n",
       "\n",
       "[1 rows x 31 columns]"
      ]
     },
     "execution_count": 43,
     "metadata": {},
     "output_type": "execute_result"
    }
   ],
   "source": [
    "test.drop(y, axis=1).iloc[[130],:]"
   ]
  },
  {
   "cell_type": "code",
   "execution_count": 14,
   "metadata": {},
   "outputs": [
    {
     "data": {
      "text/plain": [
       "13558    Urban\n",
       "9190     Rural\n",
       "1485     Urban\n",
       "8633     Urban\n",
       "7332     Urban\n",
       "         ...  \n",
       "11743    Urban\n",
       "1253     Urban\n",
       "11856    Urban\n",
       "12419    Urban\n",
       "6218     Rural\n",
       "Name: accident_area, Length: 130, dtype: object"
      ]
     },
     "execution_count": 14,
     "metadata": {},
     "output_type": "execute_result"
    }
   ],
   "source": [
    "test.drop(y, axis=1).iloc[:130,4]"
   ]
  },
  {
   "cell_type": "code",
   "execution_count": 10,
   "metadata": {},
   "outputs": [
    {
     "data": {
      "text/plain": [
       "array([0, 0, 0, 0, 0, 0, 0, 0, 0, 0, 0, 0, 0, 0, 0, 0, 0, 0, 0, 1, 0, 0,\n",
       "       0, 0, 0, 1, 1, 0, 1, 0, 0, 0, 0, 0, 0, 0, 0, 0, 0, 1, 0, 0, 0, 0,\n",
       "       1, 1, 0, 0, 0, 0, 0, 0, 0, 1, 0, 0, 0, 1, 1, 0, 0, 0, 0, 0, 0, 0,\n",
       "       0, 1, 0, 0, 0, 0, 0, 0, 0, 0, 0, 0, 0, 1, 0, 1, 0, 0, 1, 0, 0, 0,\n",
       "       0, 0, 0, 0, 0, 0, 1, 0, 0, 0, 0, 0, 0, 0, 0, 0, 0, 0, 0, 0, 0, 0,\n",
       "       0, 1, 1, 0, 0, 0, 0, 0, 0, 0, 0, 0, 0, 0, 0, 0, 0, 0, 0, 0])"
      ]
     },
     "execution_count": 10,
     "metadata": {},
     "output_type": "execute_result"
    }
   ],
   "source": [
    "best_pipeline_log_reg.predict(test.drop(y, axis=1).iloc[:130,:])"
   ]
  },
  {
   "cell_type": "code",
   "execution_count": 17,
   "metadata": {},
   "outputs": [
    {
     "ename": "NotFittedError",
     "evalue": "This OneHotEncoder instance is not fitted yet. Call 'fit' with appropriate arguments before using this estimator.",
     "output_type": "error",
     "traceback": [
      "\u001b[0;31m---------------------------------------------------------------------------\u001b[0m",
      "\u001b[0;31mNotFittedError\u001b[0m                            Traceback (most recent call last)",
      "Cell \u001b[0;32mIn[17], line 2\u001b[0m\n\u001b[1;32m      1\u001b[0m best_pipeline_log_reg \u001b[39m=\u001b[39m load_pipeline(MODEL_NAME, DATASET_NAME)\n\u001b[0;32m----> 2\u001b[0m best_pipeline_log_reg\u001b[39m.\u001b[39;49mnamed_steps[\u001b[39m\"\u001b[39;49m\u001b[39mpreprocessor\u001b[39;49m\u001b[39m\"\u001b[39;49m]\u001b[39m.\u001b[39;49mtransformers[\u001b[39m1\u001b[39;49m][\u001b[39m1\u001b[39;49m]\u001b[39m.\u001b[39;49mnamed_steps\u001b[39m.\u001b[39;49mencoder\u001b[39m.\u001b[39;49minverse_transform(\u001b[39m0\u001b[39;49m)\n",
      "File \u001b[0;32m~/.local/share/virtualenvs/End-to-end-project---Customer-churn-PLUo0CZ0/lib/python3.11/site-packages/sklearn/preprocessing/_encoders.py:1083\u001b[0m, in \u001b[0;36mOneHotEncoder.inverse_transform\u001b[0;34m(self, X)\u001b[0m\n\u001b[1;32m   1060\u001b[0m \u001b[39mdef\u001b[39;00m \u001b[39minverse_transform\u001b[39m(\u001b[39mself\u001b[39m, X):\n\u001b[1;32m   1061\u001b[0m \u001b[39m    \u001b[39m\u001b[39m\"\"\"\u001b[39;00m\n\u001b[1;32m   1062\u001b[0m \u001b[39m    Convert the data back to the original representation.\u001b[39;00m\n\u001b[1;32m   1063\u001b[0m \n\u001b[0;32m   (...)\u001b[0m\n\u001b[1;32m   1081\u001b[0m \u001b[39m        Inverse transformed array.\u001b[39;00m\n\u001b[1;32m   1082\u001b[0m \u001b[39m    \"\"\"\u001b[39;00m\n\u001b[0;32m-> 1083\u001b[0m     check_is_fitted(\u001b[39mself\u001b[39;49m)\n\u001b[1;32m   1084\u001b[0m     X \u001b[39m=\u001b[39m check_array(X, accept_sparse\u001b[39m=\u001b[39m\u001b[39m\"\u001b[39m\u001b[39mcsr\u001b[39m\u001b[39m\"\u001b[39m)\n\u001b[1;32m   1086\u001b[0m     n_samples, _ \u001b[39m=\u001b[39m X\u001b[39m.\u001b[39mshape\n",
      "File \u001b[0;32m~/.local/share/virtualenvs/End-to-end-project---Customer-churn-PLUo0CZ0/lib/python3.11/site-packages/sklearn/utils/validation.py:1462\u001b[0m, in \u001b[0;36mcheck_is_fitted\u001b[0;34m(estimator, attributes, msg, all_or_any)\u001b[0m\n\u001b[1;32m   1459\u001b[0m     \u001b[39mraise\u001b[39;00m \u001b[39mTypeError\u001b[39;00m(\u001b[39m\"\u001b[39m\u001b[39m%s\u001b[39;00m\u001b[39m is not an estimator instance.\u001b[39m\u001b[39m\"\u001b[39m \u001b[39m%\u001b[39m (estimator))\n\u001b[1;32m   1461\u001b[0m \u001b[39mif\u001b[39;00m \u001b[39mnot\u001b[39;00m _is_fitted(estimator, attributes, all_or_any):\n\u001b[0;32m-> 1462\u001b[0m     \u001b[39mraise\u001b[39;00m NotFittedError(msg \u001b[39m%\u001b[39m {\u001b[39m\"\u001b[39m\u001b[39mname\u001b[39m\u001b[39m\"\u001b[39m: \u001b[39mtype\u001b[39m(estimator)\u001b[39m.\u001b[39m\u001b[39m__name__\u001b[39m})\n",
      "\u001b[0;31mNotFittedError\u001b[0m: This OneHotEncoder instance is not fitted yet. Call 'fit' with appropriate arguments before using this estimator."
     ]
    }
   ],
   "source": [
    "best_pipeline_log_reg = load_pipeline(MODEL_NAME, DATASET_NAME)\n",
    "best_pipeline_log_reg.named_steps[\"preprocessor\"].transformers[1][1].named_steps.encoder.inverse_transform(0)"
   ]
  },
  {
   "cell_type": "code",
   "execution_count": 27,
   "metadata": {},
   "outputs": [
    {
     "data": {
      "text/plain": [
       "make\n",
       "Pontiac      768\n",
       "Toyota       624\n",
       "Honda        561\n",
       "Mazda        471\n",
       "Chevrolet    336\n",
       "Accura        95\n",
       "Ford          90\n",
       "VW            57\n",
       "Saab          21\n",
       "Dodge         21\n",
       "Mercury       16\n",
       "Saturn        11\n",
       "Nisson         6\n",
       "BMW            3\n",
       "Jaguar         1\n",
       "Mecedes        1\n",
       "Porche         1\n",
       "Name: count, dtype: int64"
      ]
     },
     "execution_count": 27,
     "metadata": {},
     "output_type": "execute_result"
    }
   ],
   "source": [
    "test.iloc[:,3].value_counts()"
   ]
  },
  {
   "cell_type": "code",
   "execution_count": 13,
   "metadata": {},
   "outputs": [
    {
     "ename": "ValueError",
     "evalue": "Found unknown categories ['0'] in column 4 during transform",
     "output_type": "error",
     "traceback": [
      "\u001b[0;31m---------------------------------------------------------------------------\u001b[0m",
      "\u001b[0;31mValueError\u001b[0m                                Traceback (most recent call last)",
      "Cell \u001b[0;32mIn[13], line 1\u001b[0m\n\u001b[0;32m----> 1\u001b[0m evaluate_model(best_pipeline_log_reg, fit_le\u001b[39m=\u001b[39;49mfit_le, test\u001b[39m=\u001b[39;49mtest, y_col_name\u001b[39m=\u001b[39;49my)\n",
      "File \u001b[0;32m~/projects/End-to-end-project---Customer-churn/notebooks/../src/common_functions.py:131\u001b[0m, in \u001b[0;36mevaluate_model\u001b[0;34m(best_pipeline, fit_le, test, y_col_name)\u001b[0m\n\u001b[1;32m    128\u001b[0m \u001b[39mdef\u001b[39;00m \u001b[39mevaluate_model\u001b[39m(best_pipeline: Pipeline, fit_le: LabelEncoder, test: pd\u001b[39m.\u001b[39mDataFrame, y_col_name: \u001b[39mstr\u001b[39m) \u001b[39m-\u001b[39m\u001b[39m>\u001b[39m \u001b[39mNone\u001b[39;00m:\n\u001b[1;32m    129\u001b[0m     clf \u001b[39m=\u001b[39m best_pipeline[\u001b[39m\"\u001b[39m\u001b[39mlogistic\u001b[39m\u001b[39m\"\u001b[39m]\n\u001b[0;32m--> 131\u001b[0m     test_predictions \u001b[39m=\u001b[39m best_pipeline\u001b[39m.\u001b[39;49mpredict(\n\u001b[1;32m    132\u001b[0m         test\u001b[39m.\u001b[39;49mdrop(y_col_name, axis\u001b[39m=\u001b[39;49m\u001b[39m1\u001b[39;49m))\n\u001b[1;32m    133\u001b[0m     test_predictions_proba \u001b[39m=\u001b[39m best_pipeline\u001b[39m.\u001b[39mpredict_proba(\n\u001b[1;32m    134\u001b[0m         test\u001b[39m.\u001b[39mdrop(y_col_name, axis\u001b[39m=\u001b[39m\u001b[39m1\u001b[39m))\n\u001b[1;32m    136\u001b[0m     test_y_encoded \u001b[39m=\u001b[39m fit_le\u001b[39m.\u001b[39mtransform(test[y_col_name])\n",
      "File \u001b[0;32m~/.local/share/virtualenvs/End-to-end-project---Customer-churn-PLUo0CZ0/lib/python3.11/site-packages/sklearn/pipeline.py:507\u001b[0m, in \u001b[0;36mPipeline.predict\u001b[0;34m(self, X, **predict_params)\u001b[0m\n\u001b[1;32m    505\u001b[0m Xt \u001b[39m=\u001b[39m X\n\u001b[1;32m    506\u001b[0m \u001b[39mfor\u001b[39;00m _, name, transform \u001b[39min\u001b[39;00m \u001b[39mself\u001b[39m\u001b[39m.\u001b[39m_iter(with_final\u001b[39m=\u001b[39m\u001b[39mFalse\u001b[39;00m):\n\u001b[0;32m--> 507\u001b[0m     Xt \u001b[39m=\u001b[39m transform\u001b[39m.\u001b[39;49mtransform(Xt)\n\u001b[1;32m    508\u001b[0m \u001b[39mreturn\u001b[39;00m \u001b[39mself\u001b[39m\u001b[39m.\u001b[39msteps[\u001b[39m-\u001b[39m\u001b[39m1\u001b[39m][\u001b[39m1\u001b[39m]\u001b[39m.\u001b[39mpredict(Xt, \u001b[39m*\u001b[39m\u001b[39m*\u001b[39mpredict_params)\n",
      "File \u001b[0;32m~/.local/share/virtualenvs/End-to-end-project---Customer-churn-PLUo0CZ0/lib/python3.11/site-packages/sklearn/utils/_set_output.py:140\u001b[0m, in \u001b[0;36m_wrap_method_output.<locals>.wrapped\u001b[0;34m(self, X, *args, **kwargs)\u001b[0m\n\u001b[1;32m    138\u001b[0m \u001b[39m@wraps\u001b[39m(f)\n\u001b[1;32m    139\u001b[0m \u001b[39mdef\u001b[39;00m \u001b[39mwrapped\u001b[39m(\u001b[39mself\u001b[39m, X, \u001b[39m*\u001b[39margs, \u001b[39m*\u001b[39m\u001b[39m*\u001b[39mkwargs):\n\u001b[0;32m--> 140\u001b[0m     data_to_wrap \u001b[39m=\u001b[39m f(\u001b[39mself\u001b[39;49m, X, \u001b[39m*\u001b[39;49margs, \u001b[39m*\u001b[39;49m\u001b[39m*\u001b[39;49mkwargs)\n\u001b[1;32m    141\u001b[0m     \u001b[39mif\u001b[39;00m \u001b[39misinstance\u001b[39m(data_to_wrap, \u001b[39mtuple\u001b[39m):\n\u001b[1;32m    142\u001b[0m         \u001b[39m# only wrap the first output for cross decomposition\u001b[39;00m\n\u001b[1;32m    143\u001b[0m         return_tuple \u001b[39m=\u001b[39m (\n\u001b[1;32m    144\u001b[0m             _wrap_data_with_container(method, data_to_wrap[\u001b[39m0\u001b[39m], X, \u001b[39mself\u001b[39m),\n\u001b[1;32m    145\u001b[0m             \u001b[39m*\u001b[39mdata_to_wrap[\u001b[39m1\u001b[39m:],\n\u001b[1;32m    146\u001b[0m         )\n",
      "File \u001b[0;32m~/.local/share/virtualenvs/End-to-end-project---Customer-churn-PLUo0CZ0/lib/python3.11/site-packages/sklearn/compose/_column_transformer.py:816\u001b[0m, in \u001b[0;36mColumnTransformer.transform\u001b[0;34m(self, X)\u001b[0m\n\u001b[1;32m    811\u001b[0m \u001b[39melse\u001b[39;00m:\n\u001b[1;32m    812\u001b[0m     \u001b[39m# ndarray was used for fitting or transforming, thus we only\u001b[39;00m\n\u001b[1;32m    813\u001b[0m     \u001b[39m# check that n_features_in_ is consistent\u001b[39;00m\n\u001b[1;32m    814\u001b[0m     \u001b[39mself\u001b[39m\u001b[39m.\u001b[39m_check_n_features(X, reset\u001b[39m=\u001b[39m\u001b[39mFalse\u001b[39;00m)\n\u001b[0;32m--> 816\u001b[0m Xs \u001b[39m=\u001b[39m \u001b[39mself\u001b[39;49m\u001b[39m.\u001b[39;49m_fit_transform(\n\u001b[1;32m    817\u001b[0m     X,\n\u001b[1;32m    818\u001b[0m     \u001b[39mNone\u001b[39;49;00m,\n\u001b[1;32m    819\u001b[0m     _transform_one,\n\u001b[1;32m    820\u001b[0m     fitted\u001b[39m=\u001b[39;49m\u001b[39mTrue\u001b[39;49;00m,\n\u001b[1;32m    821\u001b[0m     column_as_strings\u001b[39m=\u001b[39;49mfit_dataframe_and_transform_dataframe,\n\u001b[1;32m    822\u001b[0m )\n\u001b[1;32m    823\u001b[0m \u001b[39mself\u001b[39m\u001b[39m.\u001b[39m_validate_output(Xs)\n\u001b[1;32m    825\u001b[0m \u001b[39mif\u001b[39;00m \u001b[39mnot\u001b[39;00m Xs:\n\u001b[1;32m    826\u001b[0m     \u001b[39m# All transformers are None\u001b[39;00m\n",
      "File \u001b[0;32m~/.local/share/virtualenvs/End-to-end-project---Customer-churn-PLUo0CZ0/lib/python3.11/site-packages/sklearn/compose/_column_transformer.py:670\u001b[0m, in \u001b[0;36mColumnTransformer._fit_transform\u001b[0;34m(self, X, y, func, fitted, column_as_strings)\u001b[0m\n\u001b[1;32m    664\u001b[0m transformers \u001b[39m=\u001b[39m \u001b[39mlist\u001b[39m(\n\u001b[1;32m    665\u001b[0m     \u001b[39mself\u001b[39m\u001b[39m.\u001b[39m_iter(\n\u001b[1;32m    666\u001b[0m         fitted\u001b[39m=\u001b[39mfitted, replace_strings\u001b[39m=\u001b[39m\u001b[39mTrue\u001b[39;00m, column_as_strings\u001b[39m=\u001b[39mcolumn_as_strings\n\u001b[1;32m    667\u001b[0m     )\n\u001b[1;32m    668\u001b[0m )\n\u001b[1;32m    669\u001b[0m \u001b[39mtry\u001b[39;00m:\n\u001b[0;32m--> 670\u001b[0m     \u001b[39mreturn\u001b[39;00m Parallel(n_jobs\u001b[39m=\u001b[39;49m\u001b[39mself\u001b[39;49m\u001b[39m.\u001b[39;49mn_jobs)(\n\u001b[1;32m    671\u001b[0m         delayed(func)(\n\u001b[1;32m    672\u001b[0m             transformer\u001b[39m=\u001b[39;49mclone(trans) \u001b[39mif\u001b[39;49;00m \u001b[39mnot\u001b[39;49;00m fitted \u001b[39melse\u001b[39;49;00m trans,\n\u001b[1;32m    673\u001b[0m             X\u001b[39m=\u001b[39;49m_safe_indexing(X, column, axis\u001b[39m=\u001b[39;49m\u001b[39m1\u001b[39;49m),\n\u001b[1;32m    674\u001b[0m             y\u001b[39m=\u001b[39;49my,\n\u001b[1;32m    675\u001b[0m             weight\u001b[39m=\u001b[39;49mweight,\n\u001b[1;32m    676\u001b[0m             message_clsname\u001b[39m=\u001b[39;49m\u001b[39m\"\u001b[39;49m\u001b[39mColumnTransformer\u001b[39;49m\u001b[39m\"\u001b[39;49m,\n\u001b[1;32m    677\u001b[0m             message\u001b[39m=\u001b[39;49m\u001b[39mself\u001b[39;49m\u001b[39m.\u001b[39;49m_log_message(name, idx, \u001b[39mlen\u001b[39;49m(transformers)),\n\u001b[1;32m    678\u001b[0m         )\n\u001b[1;32m    679\u001b[0m         \u001b[39mfor\u001b[39;49;00m idx, (name, trans, column, weight) \u001b[39min\u001b[39;49;00m \u001b[39menumerate\u001b[39;49m(transformers, \u001b[39m1\u001b[39;49m)\n\u001b[1;32m    680\u001b[0m     )\n\u001b[1;32m    681\u001b[0m \u001b[39mexcept\u001b[39;00m \u001b[39mValueError\u001b[39;00m \u001b[39mas\u001b[39;00m e:\n\u001b[1;32m    682\u001b[0m     \u001b[39mif\u001b[39;00m \u001b[39m\"\u001b[39m\u001b[39mExpected 2D array, got 1D array instead\u001b[39m\u001b[39m\"\u001b[39m \u001b[39min\u001b[39;00m \u001b[39mstr\u001b[39m(e):\n",
      "File \u001b[0;32m~/.local/share/virtualenvs/End-to-end-project---Customer-churn-PLUo0CZ0/lib/python3.11/site-packages/sklearn/utils/parallel.py:65\u001b[0m, in \u001b[0;36mParallel.__call__\u001b[0;34m(self, iterable)\u001b[0m\n\u001b[1;32m     60\u001b[0m config \u001b[39m=\u001b[39m get_config()\n\u001b[1;32m     61\u001b[0m iterable_with_config \u001b[39m=\u001b[39m (\n\u001b[1;32m     62\u001b[0m     (_with_config(delayed_func, config), args, kwargs)\n\u001b[1;32m     63\u001b[0m     \u001b[39mfor\u001b[39;00m delayed_func, args, kwargs \u001b[39min\u001b[39;00m iterable\n\u001b[1;32m     64\u001b[0m )\n\u001b[0;32m---> 65\u001b[0m \u001b[39mreturn\u001b[39;00m \u001b[39msuper\u001b[39;49m()\u001b[39m.\u001b[39;49m\u001b[39m__call__\u001b[39;49m(iterable_with_config)\n",
      "File \u001b[0;32m~/.local/share/virtualenvs/End-to-end-project---Customer-churn-PLUo0CZ0/lib/python3.11/site-packages/joblib/parallel.py:1855\u001b[0m, in \u001b[0;36mParallel.__call__\u001b[0;34m(self, iterable)\u001b[0m\n\u001b[1;32m   1853\u001b[0m     output \u001b[39m=\u001b[39m \u001b[39mself\u001b[39m\u001b[39m.\u001b[39m_get_sequential_output(iterable)\n\u001b[1;32m   1854\u001b[0m     \u001b[39mnext\u001b[39m(output)\n\u001b[0;32m-> 1855\u001b[0m     \u001b[39mreturn\u001b[39;00m output \u001b[39mif\u001b[39;00m \u001b[39mself\u001b[39m\u001b[39m.\u001b[39mreturn_generator \u001b[39melse\u001b[39;00m \u001b[39mlist\u001b[39;49m(output)\n\u001b[1;32m   1857\u001b[0m \u001b[39m# Let's create an ID that uniquely identifies the current call. If the\u001b[39;00m\n\u001b[1;32m   1858\u001b[0m \u001b[39m# call is interrupted early and that the same instance is immediately\u001b[39;00m\n\u001b[1;32m   1859\u001b[0m \u001b[39m# re-used, this id will be used to prevent workers that were\u001b[39;00m\n\u001b[1;32m   1860\u001b[0m \u001b[39m# concurrently finalizing a task from the previous call to run the\u001b[39;00m\n\u001b[1;32m   1861\u001b[0m \u001b[39m# callback.\u001b[39;00m\n\u001b[1;32m   1862\u001b[0m \u001b[39mwith\u001b[39;00m \u001b[39mself\u001b[39m\u001b[39m.\u001b[39m_lock:\n",
      "File \u001b[0;32m~/.local/share/virtualenvs/End-to-end-project---Customer-churn-PLUo0CZ0/lib/python3.11/site-packages/joblib/parallel.py:1784\u001b[0m, in \u001b[0;36mParallel._get_sequential_output\u001b[0;34m(self, iterable)\u001b[0m\n\u001b[1;32m   1782\u001b[0m \u001b[39mself\u001b[39m\u001b[39m.\u001b[39mn_dispatched_batches \u001b[39m+\u001b[39m\u001b[39m=\u001b[39m \u001b[39m1\u001b[39m\n\u001b[1;32m   1783\u001b[0m \u001b[39mself\u001b[39m\u001b[39m.\u001b[39mn_dispatched_tasks \u001b[39m+\u001b[39m\u001b[39m=\u001b[39m \u001b[39m1\u001b[39m\n\u001b[0;32m-> 1784\u001b[0m res \u001b[39m=\u001b[39m func(\u001b[39m*\u001b[39;49margs, \u001b[39m*\u001b[39;49m\u001b[39m*\u001b[39;49mkwargs)\n\u001b[1;32m   1785\u001b[0m \u001b[39mself\u001b[39m\u001b[39m.\u001b[39mn_completed_tasks \u001b[39m+\u001b[39m\u001b[39m=\u001b[39m \u001b[39m1\u001b[39m\n\u001b[1;32m   1786\u001b[0m \u001b[39mself\u001b[39m\u001b[39m.\u001b[39mprint_progress()\n",
      "File \u001b[0;32m~/.local/share/virtualenvs/End-to-end-project---Customer-churn-PLUo0CZ0/lib/python3.11/site-packages/sklearn/utils/parallel.py:127\u001b[0m, in \u001b[0;36m_FuncWrapper.__call__\u001b[0;34m(self, *args, **kwargs)\u001b[0m\n\u001b[1;32m    125\u001b[0m     config \u001b[39m=\u001b[39m {}\n\u001b[1;32m    126\u001b[0m \u001b[39mwith\u001b[39;00m config_context(\u001b[39m*\u001b[39m\u001b[39m*\u001b[39mconfig):\n\u001b[0;32m--> 127\u001b[0m     \u001b[39mreturn\u001b[39;00m \u001b[39mself\u001b[39;49m\u001b[39m.\u001b[39;49mfunction(\u001b[39m*\u001b[39;49margs, \u001b[39m*\u001b[39;49m\u001b[39m*\u001b[39;49mkwargs)\n",
      "File \u001b[0;32m~/.local/share/virtualenvs/End-to-end-project---Customer-churn-PLUo0CZ0/lib/python3.11/site-packages/sklearn/pipeline.py:933\u001b[0m, in \u001b[0;36m_transform_one\u001b[0;34m(transformer, X, y, weight, **fit_params)\u001b[0m\n\u001b[1;32m    932\u001b[0m \u001b[39mdef\u001b[39;00m \u001b[39m_transform_one\u001b[39m(transformer, X, y, weight, \u001b[39m*\u001b[39m\u001b[39m*\u001b[39mfit_params):\n\u001b[0;32m--> 933\u001b[0m     res \u001b[39m=\u001b[39m transformer\u001b[39m.\u001b[39;49mtransform(X)\n\u001b[1;32m    934\u001b[0m     \u001b[39m# if we have a weight for this transformer, multiply output\u001b[39;00m\n\u001b[1;32m    935\u001b[0m     \u001b[39mif\u001b[39;00m weight \u001b[39mis\u001b[39;00m \u001b[39mNone\u001b[39;00m:\n",
      "File \u001b[0;32m~/.local/share/virtualenvs/End-to-end-project---Customer-churn-PLUo0CZ0/lib/python3.11/site-packages/sklearn/pipeline.py:689\u001b[0m, in \u001b[0;36mPipeline.transform\u001b[0;34m(self, X)\u001b[0m\n\u001b[1;32m    687\u001b[0m Xt \u001b[39m=\u001b[39m X\n\u001b[1;32m    688\u001b[0m \u001b[39mfor\u001b[39;00m _, _, transform \u001b[39min\u001b[39;00m \u001b[39mself\u001b[39m\u001b[39m.\u001b[39m_iter():\n\u001b[0;32m--> 689\u001b[0m     Xt \u001b[39m=\u001b[39m transform\u001b[39m.\u001b[39;49mtransform(Xt)\n\u001b[1;32m    690\u001b[0m \u001b[39mreturn\u001b[39;00m Xt\n",
      "File \u001b[0;32m~/.local/share/virtualenvs/End-to-end-project---Customer-churn-PLUo0CZ0/lib/python3.11/site-packages/sklearn/utils/_set_output.py:140\u001b[0m, in \u001b[0;36m_wrap_method_output.<locals>.wrapped\u001b[0;34m(self, X, *args, **kwargs)\u001b[0m\n\u001b[1;32m    138\u001b[0m \u001b[39m@wraps\u001b[39m(f)\n\u001b[1;32m    139\u001b[0m \u001b[39mdef\u001b[39;00m \u001b[39mwrapped\u001b[39m(\u001b[39mself\u001b[39m, X, \u001b[39m*\u001b[39margs, \u001b[39m*\u001b[39m\u001b[39m*\u001b[39mkwargs):\n\u001b[0;32m--> 140\u001b[0m     data_to_wrap \u001b[39m=\u001b[39m f(\u001b[39mself\u001b[39;49m, X, \u001b[39m*\u001b[39;49margs, \u001b[39m*\u001b[39;49m\u001b[39m*\u001b[39;49mkwargs)\n\u001b[1;32m    141\u001b[0m     \u001b[39mif\u001b[39;00m \u001b[39misinstance\u001b[39m(data_to_wrap, \u001b[39mtuple\u001b[39m):\n\u001b[1;32m    142\u001b[0m         \u001b[39m# only wrap the first output for cross decomposition\u001b[39;00m\n\u001b[1;32m    143\u001b[0m         return_tuple \u001b[39m=\u001b[39m (\n\u001b[1;32m    144\u001b[0m             _wrap_data_with_container(method, data_to_wrap[\u001b[39m0\u001b[39m], X, \u001b[39mself\u001b[39m),\n\u001b[1;32m    145\u001b[0m             \u001b[39m*\u001b[39mdata_to_wrap[\u001b[39m1\u001b[39m:],\n\u001b[1;32m    146\u001b[0m         )\n",
      "File \u001b[0;32m~/.local/share/virtualenvs/End-to-end-project---Customer-churn-PLUo0CZ0/lib/python3.11/site-packages/sklearn/preprocessing/_encoders.py:1016\u001b[0m, in \u001b[0;36mOneHotEncoder.transform\u001b[0;34m(self, X)\u001b[0m\n\u001b[1;32m   1011\u001b[0m \u001b[39m# validation of X happens in _check_X called by _transform\u001b[39;00m\n\u001b[1;32m   1012\u001b[0m warn_on_unknown \u001b[39m=\u001b[39m \u001b[39mself\u001b[39m\u001b[39m.\u001b[39mdrop \u001b[39mis\u001b[39;00m \u001b[39mnot\u001b[39;00m \u001b[39mNone\u001b[39;00m \u001b[39mand\u001b[39;00m \u001b[39mself\u001b[39m\u001b[39m.\u001b[39mhandle_unknown \u001b[39min\u001b[39;00m {\n\u001b[1;32m   1013\u001b[0m     \u001b[39m\"\u001b[39m\u001b[39mignore\u001b[39m\u001b[39m\"\u001b[39m,\n\u001b[1;32m   1014\u001b[0m     \u001b[39m\"\u001b[39m\u001b[39minfrequent_if_exist\u001b[39m\u001b[39m\"\u001b[39m,\n\u001b[1;32m   1015\u001b[0m }\n\u001b[0;32m-> 1016\u001b[0m X_int, X_mask \u001b[39m=\u001b[39m \u001b[39mself\u001b[39;49m\u001b[39m.\u001b[39;49m_transform(\n\u001b[1;32m   1017\u001b[0m     X,\n\u001b[1;32m   1018\u001b[0m     handle_unknown\u001b[39m=\u001b[39;49m\u001b[39mself\u001b[39;49m\u001b[39m.\u001b[39;49mhandle_unknown,\n\u001b[1;32m   1019\u001b[0m     force_all_finite\u001b[39m=\u001b[39;49m\u001b[39m\"\u001b[39;49m\u001b[39mallow-nan\u001b[39;49m\u001b[39m\"\u001b[39;49m,\n\u001b[1;32m   1020\u001b[0m     warn_on_unknown\u001b[39m=\u001b[39;49mwarn_on_unknown,\n\u001b[1;32m   1021\u001b[0m )\n\u001b[1;32m   1023\u001b[0m n_samples, n_features \u001b[39m=\u001b[39m X_int\u001b[39m.\u001b[39mshape\n\u001b[1;32m   1025\u001b[0m \u001b[39mif\u001b[39;00m \u001b[39mself\u001b[39m\u001b[39m.\u001b[39m_drop_idx_after_grouping \u001b[39mis\u001b[39;00m \u001b[39mnot\u001b[39;00m \u001b[39mNone\u001b[39;00m:\n",
      "File \u001b[0;32m~/.local/share/virtualenvs/End-to-end-project---Customer-churn-PLUo0CZ0/lib/python3.11/site-packages/sklearn/preprocessing/_encoders.py:199\u001b[0m, in \u001b[0;36m_BaseEncoder._transform\u001b[0;34m(self, X, handle_unknown, force_all_finite, warn_on_unknown, ignore_category_indices)\u001b[0m\n\u001b[1;32m    194\u001b[0m \u001b[39mif\u001b[39;00m handle_unknown \u001b[39m==\u001b[39m \u001b[39m\"\u001b[39m\u001b[39merror\u001b[39m\u001b[39m\"\u001b[39m:\n\u001b[1;32m    195\u001b[0m     msg \u001b[39m=\u001b[39m (\n\u001b[1;32m    196\u001b[0m         \u001b[39m\"\u001b[39m\u001b[39mFound unknown categories \u001b[39m\u001b[39m{0}\u001b[39;00m\u001b[39m in column \u001b[39m\u001b[39m{1}\u001b[39;00m\u001b[39m\"\u001b[39m\n\u001b[1;32m    197\u001b[0m         \u001b[39m\"\u001b[39m\u001b[39m during transform\u001b[39m\u001b[39m\"\u001b[39m\u001b[39m.\u001b[39mformat(diff, i)\n\u001b[1;32m    198\u001b[0m     )\n\u001b[0;32m--> 199\u001b[0m     \u001b[39mraise\u001b[39;00m \u001b[39mValueError\u001b[39;00m(msg)\n\u001b[1;32m    200\u001b[0m \u001b[39melse\u001b[39;00m:\n\u001b[1;32m    201\u001b[0m     \u001b[39mif\u001b[39;00m warn_on_unknown:\n",
      "\u001b[0;31mValueError\u001b[0m: Found unknown categories ['0'] in column 4 during transform"
     ]
    }
   ],
   "source": [
    "evaluate_model(best_pipeline_log_reg, fit_le=fit_le, test=test, y_col_name=y)"
   ]
  },
  {
   "cell_type": "code",
   "execution_count": null,
   "metadata": {},
   "outputs": [],
   "source": []
  }
 ],
 "metadata": {
  "kernelspec": {
   "display_name": "End-to-end-project---Customer-churn-PLUo0CZ0",
   "language": "python",
   "name": "python3"
  },
  "language_info": {
   "codemirror_mode": {
    "name": "ipython",
    "version": 3
   },
   "file_extension": ".py",
   "mimetype": "text/x-python",
   "name": "python",
   "nbconvert_exporter": "python",
   "pygments_lexer": "ipython3",
   "version": "3.11.0"
  },
  "orig_nbformat": 4
 },
 "nbformat": 4,
 "nbformat_minor": 2
}
