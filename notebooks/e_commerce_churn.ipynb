{
 "cells": [
  {
   "cell_type": "code",
   "execution_count": 1,
   "metadata": {},
   "outputs": [],
   "source": [
    "import sys\n",
    "sys.path.append(\"../\")\n",
    "\n",
    "from src.common_functions import *"
   ]
  },
  {
   "cell_type": "code",
   "execution_count": 2,
   "metadata": {},
   "outputs": [],
   "source": [
    "from pathlib import Path\n",
    "from sklearn.model_selection import train_test_split\n",
    "from sklearn.linear_model import LogisticRegression\n",
    "from xgboost import XGBClassifier\n",
    "import sys\n",
    "import pandas as pd"
   ]
  },
  {
   "cell_type": "code",
   "execution_count": 3,
   "metadata": {},
   "outputs": [
    {
     "name": "stdout",
     "output_type": "stream",
     "text": [
      "5630\n"
     ]
    },
    {
     "data": {
      "text/plain": [
       "churn\n",
       "0    83.161634\n",
       "1    16.838366\n",
       "Name: count, dtype: float64"
      ]
     },
     "execution_count": 3,
     "metadata": {},
     "output_type": "execute_result"
    }
   ],
   "source": [
    "import pandas as pd\n",
    "RAW_DATA_PATH = \"../datasets/churn/e_commerce_churn.xlsx\"\n",
    "DATASET_NAME = Path(RAW_DATA_PATH).stem\n",
    "df = pd.read_excel(RAW_DATA_PATH, sheet_name=\"E Comm\")\n",
    "df = df.rename(columns=dict(\n",
    "    zip(df.columns, list(map(to_snake_case, df.columns)))))\n",
    "\n",
    "print(df.shape[0])\n",
    "df.churn.value_counts()/df.shape[0]*100"
   ]
  },
  {
   "cell_type": "code",
   "execution_count": 4,
   "metadata": {},
   "outputs": [
    {
     "data": {
      "text/plain": [
       "customer_id                        False\n",
       "churn                              False\n",
       "tenure                              True\n",
       "preferred_login_device             False\n",
       "city_tier                          False\n",
       "warehouse_to_home                   True\n",
       "preferred_payment_mode             False\n",
       "gender                             False\n",
       "hour_spend_on_app                   True\n",
       "number_of_device_registered        False\n",
       "prefered_order_cat                 False\n",
       "satisfaction_score                 False\n",
       "marital_status                     False\n",
       "number_of_address                  False\n",
       "complain                           False\n",
       "order_amount_hike_fromlast_year     True\n",
       "coupon_used                         True\n",
       "order_count                         True\n",
       "day_since_last_order                True\n",
       "cashback_amount                    False\n",
       "dtype: bool"
      ]
     },
     "execution_count": 4,
     "metadata": {},
     "output_type": "execute_result"
    }
   ],
   "source": [
    "df.isna().any()"
   ]
  },
  {
   "cell_type": "code",
   "execution_count": 6,
   "metadata": {},
   "outputs": [],
   "source": [
    "y = \"churn\"\n",
    "\n",
    "# some generic cleaning\n",
    "\n",
    "COLUMNS_TO_DROP = []\n",
    "assert df[y].isna().any() == False\n",
    "raw_features = df.drop(COLUMNS_TO_DROP, axis=1)\n",
    "\n",
    "# ML tuning\n",
    "\n",
    "train, test = train_test_split(\n",
    "    raw_features, test_size=0.2, random_state=0, stratify=df[y])\n",
    "\n",
    "fit_le = LabelEncoder().fit(train[y])"
   ]
  },
  {
   "cell_type": "code",
   "execution_count": 7,
   "metadata": {},
   "outputs": [
    {
     "name": "stdout",
     "output_type": "stream",
     "text": [
      "Fitting 5 folds for each of 1008 candidates, totalling 5040 fits\n"
     ]
    }
   ],
   "source": [
    "param_grid = {\n",
    "    'logistic__penalty': ['l2'],\n",
    "    'logistic__C': [1, 10, 100, 1000],\n",
    "    'pca__n_components': list(range(6, 32, 4)),\n",
    "    'under__sampling_strategy': [0.1, 0.2, 0.3, 0.5, 0.7, 1],\n",
    "    'over__sampling_strategy': [0.2, 0.3, 0.4, 0.5, 0.7, 1]\n",
    "}\n",
    "\n",
    "model = LogisticRegression()\n",
    "\n",
    "MODEL_NAME = 'logistic'\n",
    "\n",
    "grid = sklearn_gridsearch_using_pipeline(\n",
    "    train, y_col_name=y, model=model, fit_le=fit_le, model_name='logistic', param_grid=param_grid)\n",
    "best_pipeline_log_reg = grid.best_estimator_\n",
    "best_pipeline_log_reg"
   ]
  },
  {
   "cell_type": "code",
   "execution_count": null,
   "metadata": {},
   "outputs": [],
   "source": [
    "write_pipeline(best_pipeline_log_reg, MODEL_NAME, DATASET_NAME)"
   ]
  },
  {
   "cell_type": "code",
   "execution_count": null,
   "metadata": {},
   "outputs": [],
   "source": [
    "COLUMNS = [\"under__sampling_strategy\", \"over__sampling_strategy\", \"pca__n_components\", f\"{MODEL_NAME}__C\", f\"{MODEL_NAME}__penalty\", \"roc_auc_mean\", \"roc_auc_std\"]\n",
    "\n",
    "pd.concat([\n",
    "    pd.DataFrame(grid.cv_results_[\"params\"]),\n",
    "    pd.DataFrame(grid.cv_results_[\"mean_test_score\"], columns=[\"roc_auc_mean\"]),\n",
    "    pd.DataFrame(grid.cv_results_[\"std_test_score\"], columns=[\"roc_auc_std\"])\n",
    "    ],axis=1).dropna(subset=[\"roc_auc_mean\", \"roc_auc_std\"])[COLUMNS].sort_values(by=COLUMNS)"
   ]
  },
  {
   "cell_type": "code",
   "execution_count": null,
   "metadata": {},
   "outputs": [],
   "source": [
    "evaluate_model(best_pipeline_log_reg, fit_le=fit_le, test=test, y_col_name=y)"
   ]
  },
  {
   "cell_type": "code",
   "execution_count": null,
   "metadata": {},
   "outputs": [],
   "source": []
  }
 ],
 "metadata": {
  "kernelspec": {
   "display_name": "End-to-end-project---Customer-churn-PLUo0CZ0",
   "language": "python",
   "name": "python3"
  },
  "language_info": {
   "codemirror_mode": {
    "name": "ipython",
    "version": 3
   },
   "file_extension": ".py",
   "mimetype": "text/x-python",
   "name": "python",
   "nbconvert_exporter": "python",
   "pygments_lexer": "ipython3",
   "version": "3.11.0"
  },
  "orig_nbformat": 4
 },
 "nbformat": 4,
 "nbformat_minor": 2
}
